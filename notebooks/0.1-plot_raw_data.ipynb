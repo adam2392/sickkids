{
 "cells": [
  {
   "cell_type": "markdown",
   "metadata": {},
   "source": [
    "# Show Raw Data"
   ]
  },
  {
   "cell_type": "code",
   "execution_count": 11,
   "metadata": {},
   "outputs": [],
   "source": [
    "import sys\n",
    "import math\n",
    "from pathlib import Path\n",
    "\n",
    "from eztrack import (\n",
    "    preprocess_raw,\n",
    "    lds_raw_fragility,\n",
    "    write_result_fragility,\n",
    "    plot_result_heatmap,\n",
    ")\n",
    "from eztrack.utils import warn\n",
    "from mne_bids import read_raw_bids, BIDSPath, get_entity_vals\n",
    "\n",
    "sys.path.append('../')\n",
    "\n",
    "from analysis.fragility.run_fragility_analysis import run_analysis"
   ]
  },
  {
   "cell_type": "code",
   "execution_count": 2,
   "metadata": {},
   "outputs": [],
   "source": [
    "import matplotlib\n",
    "import mne\n",
    "mne.viz.set_3d_backend(\"notebook\")"
   ]
  },
  {
   "cell_type": "code",
   "execution_count": 3,
   "metadata": {},
   "outputs": [],
   "source": [
    "# %gui qt\n",
    "%matplotlib qt"
   ]
  },
  {
   "cell_type": "code",
   "execution_count": 12,
   "metadata": {},
   "outputs": [],
   "source": [
    "def preprocess_data(bids_path, reference, deriv_path=None, figures_path=None, verbose=True, overwrite=False):\n",
    "    subject = bids_path.subject\n",
    "\n",
    "    # set where to save the data output to\n",
    "    if deriv_path is None:\n",
    "        deriv_path = (\n",
    "                bids_path.root\n",
    "                / \"derivatives\"\n",
    "                / \"1000Hz\"\n",
    "                / \"fragility\"\n",
    "                / reference\n",
    "                / f\"sub-{subject}\"\n",
    "        )\n",
    "    if figures_path is None:\n",
    "        figures_path = (\n",
    "                bids_path.root\n",
    "                / \"derivatives\"\n",
    "                / \"figures\"\n",
    "                / \"1000Hz\"\n",
    "                / \"fragility\"\n",
    "                / reference\n",
    "                / f\"sub-{subject}\"\n",
    "        )\n",
    "\n",
    "    # use the same basename to save the data\n",
    "    deriv_basename = bids_path.basename\n",
    "\n",
    "    # if len(list(deriv_path.rglob(f'{deriv_basename}*'))) > 0 and not overwrite:\n",
    "    #     warn('Need to set overwrite to True if you want '\n",
    "    #          f'to overwrite {deriv_basename}')\n",
    "    #     return\n",
    "\n",
    "    # load in the data\n",
    "    raw = read_raw_bids(bids_path)\n",
    "    print(raw.ch_names)\n",
    "    raw = raw.pick_types(seeg=True, ecog=True, eeg=True, misc=False, exclude=[])\n",
    "    print(raw.ch_names)\n",
    "    raw.load_data()\n",
    "    print(raw.ch_names)\n",
    "\n",
    "    # pre-process the data using preprocess pipeline\n",
    "    datatype = bids_path.datatype\n",
    "    print('Power Line frequency is : ', raw.info[\"line_freq\"])\n",
    "    raw = preprocess_raw(raw, datatype=datatype,\n",
    "                         verbose=verbose, method=\"simple\", drop_chs=False)\n",
    "    print(raw.ch_names)\n",
    "#     raw = raw.pick_types(seeg=True, ecog=True, eeg=True, misc=True, exclude=[])\n",
    "    return raw"
   ]
  },
  {
   "cell_type": "code",
   "execution_count": 13,
   "metadata": {},
   "outputs": [
    {
     "name": "stdout",
     "output_type": "stream",
     "text": [
      "Analyzing post task.\n",
      "['E1']\n",
      "[]\n",
      "Found ['01'] runs for post task.\n",
      "Analyzing /Users/adam2392/OneDrive - Johns Hopkins/sickkids/sub-E4/ses-postsurgery/ieeg/sub-E4_ses-postsurgery_task-post_acq-ecog_run-01_ieeg.vhdr\n",
      "['C1', 'C2', 'C3', 'C4', 'C5', 'C6', 'C7', 'C8', 'C9', 'C10', 'C11', 'C12', 'C13', 'C14', 'C15', 'C16', 'C17', 'C18', 'C19', 'C20', 'C21', 'C22', 'C23', 'C24', 'C25', 'C26', 'C27', 'C28', 'C29', 'C30', 'C31', 'C32', 'C33', 'C34', 'C35', 'C36', 'C37', 'C38', 'C39', 'C40', 'C41', 'C42', 'C43', 'C44', 'C45', 'C46', 'C47', 'C48', 'F2AL1', 'F2AL2', 'F2AL3', 'F2AL4', 'F2AL5', 'F2AL6', 'F2BC1', 'F2BC2', 'F2BC3', 'F2BC4', 'F2BC5', 'F2BC6', 'F2CL1', 'F2CL2', 'F2CL3', 'F2CL4', 'F2CL5', 'F2CL6', 'C67', 'C68', 'C69', 'C70', 'C71', 'C72', 'C73', 'C74', 'C75', 'C76', 'C77', 'C78', 'C79', 'C80', 'C81', 'C82', 'C83', 'C84', 'C85', 'C86', 'C87', 'C88', 'C89', 'C90', 'C91', 'C92', 'C93', 'C94', 'C95', 'C96', 'C97', 'C98', 'C99', 'C100', 'C101', 'C102', 'C103', 'C104', 'C105', 'C106', 'C107', 'C108', 'C109', 'C110', 'C111', 'C112', 'C113', 'C114', 'C115', 'C116', 'C117', 'C118', 'C119', 'C120', 'C121', 'C122', 'C123', 'LEMG1', 'LEMG2', 'REMG1', 'REMG2', 'EKG', 'DC1', 'DC2', 'DC3', 'DC4', 'DC5', 'DC6', 'DC7', 'DC8', 'DC9', 'DC10', 'DC11', 'DC12', 'DC13', 'DC14', 'DC15', 'DC16', 'TRIG', 'OSAT', 'PR', 'PLETH']\n",
      "['C1', 'C2', 'C3', 'C4', 'C5', 'C6', 'C7', 'C8', 'C9', 'C10', 'C11', 'C12', 'C13', 'C14', 'C15', 'C16', 'C17', 'C18', 'C19', 'C20', 'C21', 'C22', 'C23', 'C24', 'C25', 'C26', 'C27', 'C28', 'C29', 'C30', 'C31', 'C32', 'C33', 'C34', 'C35', 'C36', 'C37', 'C38', 'C39', 'C40', 'C41', 'C42', 'C43', 'C44', 'C45', 'C46', 'C47', 'C48', 'F2AL1', 'F2AL2', 'F2AL3', 'F2AL4', 'F2AL5', 'F2AL6', 'F2BC1', 'F2BC2', 'F2BC3', 'F2BC4', 'F2BC5', 'F2BC6', 'F2CL1', 'F2CL2', 'F2CL3', 'F2CL4', 'F2CL5', 'F2CL6']\n"
     ]
    },
    {
     "name": "stderr",
     "output_type": "stream",
     "text": [
      "<ipython-input-12-7f59e84365d7>:34: RuntimeWarning: Did not find any events.tsv associated with sub-E4_ses-postsurgery_task-post_acq-ecog_run-01.\n",
      "\n",
      "The search_str was \"/Users/adam2392/OneDrive - Johns Hopkins/sickkids/sub-E4/**/sub-E4_ses-postsurgery*events.tsv\"\n",
      "  raw = read_raw_bids(bids_path)\n",
      "<ipython-input-12-7f59e84365d7>:34: RuntimeWarning: Did not find any electrodes.tsv associated with sub-E4_ses-postsurgery_task-post_acq-ecog_run-01.\n",
      "\n",
      "The search_str was \"/Users/adam2392/OneDrive - Johns Hopkins/sickkids/sub-E4/**/sub-E4_ses-postsurgery*electrodes.tsv\"\n",
      "  raw = read_raw_bids(bids_path)\n",
      "<ipython-input-12-7f59e84365d7>:34: RuntimeWarning: Did not find any coordsystem.json associated with sub-E4_ses-postsurgery_task-post_acq-ecog_run-01.\n",
      "\n",
      "The search_str was \"/Users/adam2392/OneDrive - Johns Hopkins/sickkids/sub-E4/**/sub-E4_ses-postsurgery*coordsystem.json\"\n",
      "  raw = read_raw_bids(bids_path)\n"
     ]
    },
    {
     "name": "stdout",
     "output_type": "stream",
     "text": [
      "['C1', 'C2', 'C3', 'C4', 'C5', 'C6', 'C7', 'C8', 'C9', 'C10', 'C11', 'C12', 'C13', 'C14', 'C15', 'C16', 'C17', 'C18', 'C19', 'C20', 'C21', 'C22', 'C23', 'C24', 'C25', 'C26', 'C27', 'C28', 'C29', 'C30', 'C31', 'C32', 'C33', 'C34', 'C35', 'C36', 'C37', 'C38', 'C39', 'C40', 'C41', 'C42', 'C43', 'C44', 'C45', 'C46', 'C47', 'C48', 'F2AL1', 'F2AL2', 'F2AL3', 'F2AL4', 'F2AL5', 'F2AL6', 'F2BC1', 'F2BC2', 'F2BC3', 'F2BC4', 'F2BC5', 'F2BC6', 'F2CL1', 'F2CL2', 'F2CL3', 'F2CL4', 'F2CL5', 'F2CL6']\n",
      "Power Line frequency is :  60\n",
      "['C1', 'C2', 'C3', 'C4', 'C5', 'C6', 'C7', 'C8', 'C9', 'C10', 'C11', 'C12', 'C13', 'C14', 'C15', 'C16', 'C17', 'C18', 'C19', 'C20', 'C21', 'C22', 'C23', 'C24', 'C25', 'C26', 'C27', 'C28', 'C29', 'C30', 'C31', 'C32', 'C33', 'C34', 'C35', 'C36', 'C37', 'C38', 'C39', 'C40', 'C41', 'C42', 'C43', 'C44', 'C45', 'C46', 'C47', 'C48', 'F2AL1', 'F2AL2', 'F2AL3', 'F2AL4', 'F2AL5', 'F2AL6', 'F2BC1', 'F2BC2', 'F2BC3', 'F2BC4', 'F2BC5', 'F2BC6', 'F2CL1', 'F2CL2', 'F2CL3', 'F2CL4', 'F2CL5', 'F2CL6']\n"
     ]
    }
   ],
   "source": [
    "# the root of the BIDS dataset\n",
    "root = Path(\"/Users/adam2392/OneDrive - Johns Hopkins/sickkids/\")\n",
    "\n",
    "# define BIDS entities\n",
    "subjects = [\n",
    "    # \"E1\",\n",
    "    # 'E2',\n",
    "    # 'E3',\n",
    "    'E4',\n",
    "    # 'E5', 'E6'\n",
    "]\n",
    "\n",
    "session = \"postsurgery\"  # only one session\n",
    "\n",
    "# pre, Sz, Extraoperative, post\n",
    "# task = \"pre\"\n",
    "acquisition = \"ecog\"\n",
    "datatype = \"ieeg\"\n",
    "extension = \".vhdr\"\n",
    "\n",
    "# analysis parameters\n",
    "reference = 'average'\n",
    "\n",
    "sessions = [\n",
    "    'presurgery',\n",
    "            'extraoperative',\n",
    "            'intraoperative',\n",
    "            'postsurgery']\n",
    "\n",
    "# get the runs for this subject\n",
    "subjects = get_entity_vals(root, \"subject\")\n",
    "for subject in subjects:\n",
    "    if subject != 'E4':\n",
    "        continue\n",
    "    ignore_subs = [sub for sub in subjects if sub != subject]\n",
    "    ignore_sessions = [ses for ses in sessions if ses != session]\n",
    "    ignore_set = {\n",
    "        'ignore_subjects': ignore_subs,\n",
    "        'ignore_sessions': ignore_sessions,\n",
    "    }\n",
    "    all_tasks = get_entity_vals(root, \"task\", **ignore_set)\n",
    "    tasks = all_tasks\n",
    "    # tasks = ['pre']\n",
    "\n",
    "    for task in tasks:\n",
    "        print(f\"Analyzing {task} task.\")\n",
    "        ignore_tasks = [tsk for tsk in all_tasks if tsk != task]\n",
    "        ignore_set['ignore_tasks'] = ignore_tasks\n",
    "        runs = get_entity_vals(\n",
    "            root, 'run', **ignore_set\n",
    "        )\n",
    "        print(ignore_subs)\n",
    "        print(ignore_tasks)\n",
    "        print(f'Found {runs} runs for {task} task.')\n",
    "\n",
    "        for idx, run in enumerate(runs):\n",
    "            # create path for the dataset\n",
    "            bids_path = BIDSPath(\n",
    "                subject=subject,\n",
    "                session=session,\n",
    "                task=task,\n",
    "                run=run,\n",
    "                datatype=datatype,\n",
    "                acquisition=acquisition,\n",
    "                suffix=datatype,\n",
    "                root=root,\n",
    "                extension=extension,\n",
    "            )\n",
    "            print(f\"Analyzing {bids_path}\")\n",
    "\n",
    "            raw = preprocess_data(bids_path, reference=reference)\n",
    "            \n",
    "            break\n",
    "        break\n",
    "    break"
   ]
  },
  {
   "cell_type": "code",
   "execution_count": 14,
   "metadata": {},
   "outputs": [
    {
     "name": "stdout",
     "output_type": "stream",
     "text": [
      "2049.1803278688526\n",
      "['C1', 'C2', 'C3', 'C4', 'C5', 'C9', 'C10', 'C11', 'C12', 'C13', 'C17', 'C18', 'C19', 'C20', 'C25', 'C26', 'C33', 'C34', 'C35', 'C36', 'C41', 'C42', 'C47', 'F2AL1', 'F2AL2', 'F2AL3', 'F2AL4', 'F2AL5', 'F2AL6', 'F2BC1', 'F2BC2', 'F2BC3', 'F2BC4', 'F2BC5', 'F2BC6', 'F2CL1', 'F2CL2', 'F2CL3', 'F2CL4', 'F2CL5', 'F2CL6']\n"
     ]
    }
   ],
   "source": [
    "print((raw.info['sfreq']))\n",
    "print(raw.info['bads'])"
   ]
  },
  {
   "cell_type": "code",
   "execution_count": 15,
   "metadata": {},
   "outputs": [
    {
     "name": "stdout",
     "output_type": "stream",
     "text": [
      "/Users/adam2392/OneDrive - Johns Hopkins/sickkids/derivatives/figures/2049Hz/raw/average/sub-E4\n",
      "sub-E4_ses-postsurgery_task-post_acq-ecog_run-01_ieeg.pdf\n"
     ]
    }
   ],
   "source": [
    "deriv_root = root / 'derivatives' / \"figures\" \\\n",
    "                / f\"{int(raw.info['sfreq'])}Hz\" \\\n",
    "                / \"raw\" \\\n",
    "                / reference \\\n",
    "                / f\"sub-{subject}\"\n",
    "deriv_root.mkdir(exist_ok=True, parents=True)\n",
    "fig_basename = bids_path.copy().update(extension='.pdf').basename\n",
    "print(deriv_root)\n",
    "print(fig_basename)"
   ]
  },
  {
   "cell_type": "code",
   "execution_count": 16,
   "metadata": {},
   "outputs": [],
   "source": [
    "scale = 500e-6\n",
    "fig = raw.plot(\n",
    "    scalings={\n",
    "        'ecog': scale, \n",
    "        'seeg': scale\n",
    "    }, n_channels=len(raw.ch_names)\n",
    ")\n",
    "fig.savefig(deriv_root / fig_basename)"
   ]
  },
  {
   "cell_type": "code",
   "execution_count": 12,
   "metadata": {},
   "outputs": [
    {
     "name": "stdout",
     "output_type": "stream",
     "text": [
      "['C20', 'C27', 'C28']\n"
     ]
    }
   ],
   "source": [
    "print(raw.info['bads'])"
   ]
  },
  {
   "cell_type": "code",
   "execution_count": null,
   "metadata": {},
   "outputs": [],
   "source": []
  }
 ],
 "metadata": {
  "kernelspec": {
   "display_name": "sickkids",
   "language": "python",
   "name": "sickkids"
  },
  "language_info": {
   "codemirror_mode": {
    "name": "ipython",
    "version": 3
   },
   "file_extension": ".py",
   "mimetype": "text/x-python",
   "name": "python",
   "nbconvert_exporter": "python",
   "pygments_lexer": "ipython3",
   "version": "3.7.8"
  }
 },
 "nbformat": 4,
 "nbformat_minor": 4
}
