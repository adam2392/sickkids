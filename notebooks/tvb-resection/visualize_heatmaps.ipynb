{
 "cells": [
  {
   "cell_type": "markdown",
   "metadata": {},
   "source": [
    "# Visualization of Heatmaps\n",
    "\n",
    "From real data, or simulated data, we here show the different heatmaps that are computed."
   ]
  },
  {
   "cell_type": "code",
   "execution_count": 1,
   "metadata": {},
   "outputs": [],
   "source": [
    "import numpy as np\n",
    "import pandas as pd\n",
    "import mne\n",
    "import os\n",
    "import json\n",
    "import os.path as op\n",
    "from pathlib import Path\n",
    "import collections\n",
    "from natsort import natsorted\n",
    "\n",
    "from sklearn.datasets import make_spd_matrix\n",
    "from mne.io import RawArray\n",
    "from mne import create_info\n",
    "from mne_bids import BIDSPath, get_entity_vals, read_raw_bids\n",
    "import mne\n",
    "mne.utils.use_log_level('error')\n",
    "import seaborn as sns\n",
    "import matplotlib.pyplot as plt\n",
    "import matplotlib.cm as cm\n",
    "import matplotlib as mpl\n",
    "\n",
    "import dabest\n",
    "\n",
    "from eztrack.io.base import _add_desc_to_bids_fname, concatenate_derivs\n",
    "from eztrack.io import read_derivative_npy, DerivativeArray, create_deriv_info\n",
    "from eztrack.fragility import (lds_raw_fragility, DiscreteLinearSystem, \n",
    "                               SystemIDModel, StructuredPerturbationModel)\n",
    "from eztrack.viz import _load_turbo, generate_heatmap\n",
    "from eztrack.posthoc.hypo import compute_null\n",
    "\n",
    "_load_turbo()\n",
    "\n",
    "%matplotlib inline\n",
    "%load_ext autoreload\n",
    "%autoreload 2"
   ]
  },
  {
   "cell_type": "code",
   "execution_count": 13,
   "metadata": {},
   "outputs": [],
   "source": [
    "root = Path(\"/Users/adam2392/Dropbox/resection_tvb/\")\n",
    "deriv_root = root / 'derivatives'\n",
    "figures_path = deriv_root / \"figures\"\n",
    "\n",
    "sampling_res = '1000Hz'  # 'originalsampling'\n",
    "deriv_chain = Path('radius1.25') / 'fragility' / reference\n",
    "deriv_path = deriv_root / deriv_chain"
   ]
  },
  {
   "cell_type": "code",
   "execution_count": 22,
   "metadata": {},
   "outputs": [],
   "source": [
    "subjects = ['id008gc', 'id013pg']\n",
    "\n",
    "subject = 'id008gc'\n",
    "acquisition = \"ecog\"\n",
    "acquisition = 'seeg'\n",
    "datatype = \"ieeg\"\n",
    "extension = \".npy\"\n",
    "task = 'ictal'\n",
    "run = '01'\n",
    "session = \"extraoperative\"  # only one session\n",
    "\n",
    "# analysis parameters\n",
    "reference = 'monopolar'\n",
    "desc = 'perturbmatrix'\n"
   ]
  },
  {
   "cell_type": "code",
   "execution_count": 26,
   "metadata": {},
   "outputs": [
    {
     "name": "stdout",
     "output_type": "stream",
     "text": [
      "/Users/adam2392/Dropbox/resection_tvb/sub-id008gc/ses-extraoperative/ieeg/sub-id008gc_ses-extraoperative_task-ictal_acq-seeg_run-01_ieeg.npy\n"
     ]
    }
   ],
   "source": [
    "bids_path = BIDSPath(subject=subject, session=session,task=task,\n",
    "                    acquisition=acquisition, run=run, suffix=datatype,\n",
    "                    datatype=datatype, extension=extension,\n",
    "                    root=root, check=False)\n",
    "print(bids_path)"
   ]
  },
  {
   "cell_type": "code",
   "execution_count": 27,
   "metadata": {},
   "outputs": [
    {
     "name": "stdout",
     "output_type": "stream",
     "text": [
      "sub-id008gc_ses-extraoperative_task-ictal_acq-seeg_run-01_desc-perturbmatrix_ieeg.npy\n"
     ]
    }
   ],
   "source": [
    "deriv_fname = _add_desc_to_bids_fname(bids_path.basename, description=desc)\n",
    "print(deriv_fname)"
   ]
  },
  {
   "cell_type": "code",
   "execution_count": 28,
   "metadata": {},
   "outputs": [
    {
     "name": "stdout",
     "output_type": "stream",
     "text": [
      "/Users/adam2392/Dropbox/resection_tvb/derivatives/radius1.25/fragility/monopolar/sub-id008gc/sub-id008gc_ses-extraoperative_task-ictal_acq-seeg_run-01_desc-perturbmatrix_ieeg.npy\n",
      "True\n"
     ]
    }
   ],
   "source": [
    "deriv_fpath = deriv_root / deriv_chain / f'sub-{subject}' / deriv_fname\n",
    "print(deriv_fpath)\n",
    "print(deriv_fpath.exists())"
   ]
  },
  {
   "cell_type": "markdown",
   "metadata": {},
   "source": [
    "# Load Data"
   ]
  },
  {
   "cell_type": "code",
   "execution_count": null,
   "metadata": {},
   "outputs": [],
   "source": []
  },
  {
   "cell_type": "markdown",
   "metadata": {},
   "source": [
    "## Load Resection Data"
   ]
  },
  {
   "cell_type": "code",
   "execution_count": null,
   "metadata": {},
   "outputs": [],
   "source": [
    " "
   ]
  },
  {
   "cell_type": "code",
   "execution_count": null,
   "metadata": {},
   "outputs": [],
   "source": []
  },
  {
   "cell_type": "markdown",
   "metadata": {},
   "source": [
    "# Visualize Data"
   ]
  },
  {
   "cell_type": "code",
   "execution_count": null,
   "metadata": {},
   "outputs": [],
   "source": []
  }
 ],
 "metadata": {
  "kernelspec": {
   "display_name": "sickkids",
   "language": "python",
   "name": "sickkids"
  },
  "language_info": {
   "codemirror_mode": {
    "name": "ipython",
    "version": 3
   },
   "file_extension": ".py",
   "mimetype": "text/x-python",
   "name": "python",
   "nbconvert_exporter": "python",
   "pygments_lexer": "ipython3",
   "version": "3.8.5"
  }
 },
 "nbformat": 4,
 "nbformat_minor": 4
}
