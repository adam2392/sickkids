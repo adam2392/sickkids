{
 "cells": [
  {
   "cell_type": "markdown",
   "metadata": {},
   "source": [
    "# Calculate Effect Size for HFO Analysis\n",
    "\n",
    "Using pre-calculated HFOs, determine the effect size of the difference of hfo rates pre and post resection"
   ]
  },
  {
   "cell_type": "code",
   "execution_count": 1,
   "metadata": {},
   "outputs": [
    {
     "name": "stderr",
     "output_type": "stream",
     "text": [
      "C:\\Users\\patri\\.virtualenvs\\sickkids--kKd4nio\\lib\\site-packages\\outdated\\utils.py:14: OutdatedPackageWarning: The package outdated is out of date. Your version is 0.2.0, the latest is 0.2.1.\n",
      "Set the environment variable OUTDATED_IGNORE=1 to disable these warnings.\n",
      "  return warn(\n"
     ]
    }
   ],
   "source": [
    "from pathlib import Path\n",
    "from mne_bids import (read_raw_bids, BIDSPath,\n",
    "                     get_entity_vals, get_datatypes,\n",
    "                     make_report)\n",
    "from mne_hfo import LineLengthDetector, RMSDetector\n",
    "from mne_hfo.io import read_annotations\n",
    "from mne_hfo.posthoc import compute_chs_hfo_rates\n",
    "import matplotlib.pyplot as plt\n",
    "import pandas as pd\n",
    "import numpy as np\n",
    "import pingouin as pg\n",
    "from sklearn.utils import resample\n",
    "import seaborn as sns"
   ]
  },
  {
   "cell_type": "markdown",
   "metadata": {},
   "source": [
    "Find all the paths to the result files for HFO detections. Put them into a dictionary with subjectID keys"
   ]
  },
  {
   "cell_type": "code",
   "execution_count": 2,
   "metadata": {},
   "outputs": [],
   "source": [
    "reference = \"average\"\n",
    "detector=\"rms\"\n",
    "\n",
    "fpaths = {\n",
    "    \"E1\": [],\n",
    "    \"E3\": [],\n",
    "    \"E4\": [],\n",
    "    \"E5\": [],\n",
    "    \"E6\": [],\n",
    "    \"E7\": [],\n",
    "    \"E8\": []\n",
    "}\n",
    "sessions = {\n",
    "    \"postresection\": \"post\",\n",
    "    \"preresection\": \"pre\"\n",
    "}\n",
    "bids_root = Path(\"C:/Users/patri/Johns Hopkins/Adam Li - sickkids\")\n",
    "subjects = get_entity_vals(bids_root, 'subject')\n",
    "derivative_path = bids_root / \"derivatives\"\n",
    "derivative_chain = \"hfo/average\"\n",
    "derivative_dir = derivative_path / derivative_chain\n",
    "for subjectID in subjects:\n",
    "    for sessionID, taskID in sessions.items():\n",
    "        bids_paths = BIDSPath(subject=subjectID, session=sessionID,\n",
    "                          datatype=\"ieeg\",\n",
    "                          suffix=\"ieeg\", task=taskID,\n",
    "                          acquisition='ecog',\n",
    "                          processing=detector,\n",
    "                          run='01',\n",
    "                          extension=\".vhdr\", root=derivative_dir)\n",
    "        hfo_fpath = str(bids_paths).replace(\"_ieeg.vhdr\", \"_desc-hfo_ieeg.tsv\")\n",
    "        if Path(hfo_fpath).exists():\n",
    "            fpaths[subjectID].append(hfo_fpath)\n"
   ]
  },
  {
   "cell_type": "markdown",
   "metadata": {},
   "source": [
    "Load the results into annotation dataframes. Calculate the rate of HFOs per channel and put these lists into a dictionary that separates pre and post resection detections"
   ]
  },
  {
   "cell_type": "code",
   "execution_count": 3,
   "metadata": {},
   "outputs": [],
   "source": [
    "%%capture\n",
    "hfos =  {\n",
    "    \"E1\": {\n",
    "        \"preresection\": None,\n",
    "        \"postresection\": None,\n",
    "    },\n",
    "    \"E3\": {\n",
    "        \"preresection\": None,\n",
    "        \"postresection\": None,\n",
    "    },\n",
    "    \"E4\": {\n",
    "        \"preresection\": None,\n",
    "        \"postresection\": None,\n",
    "    },\n",
    "    \"E5\": {\n",
    "        \"preresection\": None,\n",
    "        \"postresection\": None,\n",
    "    },\n",
    "    \"E6\": {\n",
    "        \"preresection\": None,\n",
    "        \"postresection\": None,\n",
    "    },\n",
    "    \"E7\": {\n",
    "        \"preresection\": None,\n",
    "        \"postresection\": None,\n",
    "    },\n",
    "}\n",
    "for subject, recordings in fpaths.items():\n",
    "    if recordings:\n",
    "        post_tsv = recordings[0]\n",
    "        pre_tsv = recordings[1]\n",
    "        # Read tsv files into annotation dataframes\n",
    "        post_annotations = read_annotations(post_tsv)\n",
    "        pre_annotations = read_annotations(pre_tsv)\n",
    "        # Calculate hfos/min for each channel\n",
    "        hfos[subject][\"postresection\"] = compute_chs_hfo_rates(post_annotations, 'm')\n",
    "        hfos[subject][\"preresection\"] = compute_chs_hfo_rates(pre_annotations, 'm')"
   ]
  },
  {
   "cell_type": "markdown",
   "metadata": {},
   "source": [
    "Calculate the effect size between the pre and post resection hfo detection rates. Bootstrap resample (with replacement) 50 times"
   ]
  },
  {
   "cell_type": "code",
   "execution_count": 4,
   "metadata": {},
   "outputs": [],
   "source": [
    "n_resamples = 50\n",
    "# Create a dictionary of subjects and effect sizes\n",
    "data_dict = {\n",
    "    'subject': [],\n",
    "    'es': []\n",
    "}\n",
    "for ind, (subject, sessions) in enumerate(hfos.items()):\n",
    "    # Bootstrap resample\n",
    "    effects = np.zeros((n_resamples,))\n",
    "    pre_rates = list(sessions[\"preresection\"].values())\n",
    "    post_rates = list(sessions[\"postresection\"].values())\n",
    "    for i in range(50):\n",
    "        pre = resample(pre_rates, replace=True, n_samples=len(pre_rates))\n",
    "        post = resample(post_rates, replace=True, n_samples=len(post_rates))\n",
    "        effects[i] = pg.compute_effsize(pre, post, eftype='cohen')\n",
    "    # Add to the dictionary with subject repeated \n",
    "    data_dict['es'].extend(effects)\n",
    "    data_dict['subject'].extend([subject]*n_resamples)\n",
    "# Convert dictionary to DataFrame\n",
    "cohens_int = pd.DataFrame(data_dict)"
   ]
  },
  {
   "cell_type": "markdown",
   "metadata": {},
   "source": [
    "Plot the results"
   ]
  },
  {
   "cell_type": "code",
   "execution_count": 5,
   "metadata": {},
   "outputs": [
    {
     "name": "stderr",
     "output_type": "stream",
     "text": [
      "C:\\Users\\patri\\.virtualenvs\\sickkids--kKd4nio\\lib\\site-packages\\seaborn\\categorical.py:1296: UserWarning: 12.0% of the points cannot be placed; you may want to decrease the size of the markers or use stripplot.\n",
      "  warnings.warn(msg, UserWarning)\n",
      "C:\\Users\\patri\\.virtualenvs\\sickkids--kKd4nio\\lib\\site-packages\\seaborn\\categorical.py:1296: UserWarning: 40.0% of the points cannot be placed; you may want to decrease the size of the markers or use stripplot.\n",
      "  warnings.warn(msg, UserWarning)\n",
      "C:\\Users\\patri\\.virtualenvs\\sickkids--kKd4nio\\lib\\site-packages\\seaborn\\categorical.py:1296: UserWarning: 16.0% of the points cannot be placed; you may want to decrease the size of the markers or use stripplot.\n",
      "  warnings.warn(msg, UserWarning)\n",
      "C:\\Users\\patri\\.virtualenvs\\sickkids--kKd4nio\\lib\\site-packages\\seaborn\\categorical.py:1296: UserWarning: 58.0% of the points cannot be placed; you may want to decrease the size of the markers or use stripplot.\n",
      "  warnings.warn(msg, UserWarning)\n",
      "C:\\Users\\patri\\.virtualenvs\\sickkids--kKd4nio\\lib\\site-packages\\seaborn\\categorical.py:1296: UserWarning: 10.0% of the points cannot be placed; you may want to decrease the size of the markers or use stripplot.\n",
      "  warnings.warn(msg, UserWarning)\n",
      "C:\\Users\\patri\\.virtualenvs\\sickkids--kKd4nio\\lib\\site-packages\\seaborn\\categorical.py:1296: UserWarning: 34.0% of the points cannot be placed; you may want to decrease the size of the markers or use stripplot.\n",
      "  warnings.warn(msg, UserWarning)\n"
     ]
    },
    {
     "data": {
      "image/png": "[encoded data removed]",
      "text/plain": [
       "<Figure size 432x288 with 1 Axes>"
      ]
     },
     "metadata": {
      "needs_background": "light"
     },
     "output_type": "display_data"
    }
   ],
   "source": [
    "# Plot boxplots with overlayed scatterplot\n",
    "fig, ax = plt.subplots()\n",
    "sns.swarmplot(x='subject', y='es', data=cohens_int, ax=ax, alpha=0.5)\n",
    "sns.boxplot(x='subject', y='es', data=cohens_int, ax=ax)\n",
    "plt.ylabel('Effect Size (Cohen\\'s)')\n",
    "plt.savefig('hfo_effect_size.pdf')"
   ]
  }
 ],
 "metadata": {
  "kernelspec": {
   "display_name": "Pipenv Sickkids",
   "language": "python",
   "name": "pipenv_sickkids"
  },
  "language_info": {
   "codemirror_mode": {
    "name": "ipython",
    "version": 3
   },
   "file_extension": ".py",
   "mimetype": "text/x-python",
   "name": "python",
   "nbconvert_exporter": "python",
   "pygments_lexer": "ipython3",
   "version": "3.8.7"
  }
 },
 "nbformat": 4,
 "nbformat_minor": 4
}
