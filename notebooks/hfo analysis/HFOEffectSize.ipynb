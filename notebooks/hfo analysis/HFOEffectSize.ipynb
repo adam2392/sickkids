{
 "cells": [
  {
   "cell_type": "markdown",
   "metadata": {},
   "source": [
    "# Calculate Effect Size for HFO Analysis\n",
    "\n",
    "Using pre-calculated HFOs, determine the effect size of the difference of hfo rates pre and post resection"
   ]
  },
  {
   "cell_type": "code",
   "execution_count": 1,
   "metadata": {},
   "outputs": [
    {
     "name": "stderr",
     "output_type": "stream",
     "text": [
      "/Users/adam2392/Documents/sickkids/.venv/lib/python3.8/site-packages/outdated/utils.py:14: OutdatedPackageWarning: The package pingouin is out of date. Your version is 0.3.9, the latest is 0.3.11.\n",
      "Set the environment variable OUTDATED_IGNORE=1 to disable these warnings.\n",
      "  return warn(\n"
     ]
    }
   ],
   "source": [
    "from pathlib import Path\n",
    "from mne_bids import (read_raw_bids, BIDSPath,\n",
    "                     get_entity_vals, get_datatypes,\n",
    "                     make_report)\n",
    "from mne_hfo import LineLengthDetector, RMSDetector\n",
    "from mne_hfo.io import read_annotations\n",
    "from mne_hfo.posthoc import compute_chs_hfo_rates\n",
    "import matplotlib\n",
    "import matplotlib.pyplot as plt\n",
    "import pandas as pd\n",
    "import numpy as np\n",
    "import pingouin as pg\n",
    "from sklearn.utils import resample\n",
    "import seaborn as sns\n",
    "import ptitprince as pt\n",
    "from hyppo.ksample import KSample"
   ]
  },
  {
   "cell_type": "code",
   "execution_count": 12,
   "metadata": {},
   "outputs": [],
   "source": [
    "np.random.seed(12345)"
   ]
  },
  {
   "cell_type": "markdown",
   "metadata": {},
   "source": [
    "# Load the data"
   ]
  },
  {
   "cell_type": "markdown",
   "metadata": {},
   "source": [
    "Find all the paths to the result files for HFO detections. Put them into a dictionary with subjectID keys"
   ]
  },
  {
   "cell_type": "code",
   "execution_count": 21,
   "metadata": {},
   "outputs": [],
   "source": [
    "bids_root = Path(\"C:/Users/patri/Johns Hopkins/Adam Li - sickkids\")\n",
    "bids_root = Path('/Users/adam2392/OneDrive - Johns Hopkins/sickkids')\n",
    "\n",
    "output_path = bids_root / 'derivatives' / 'publication'\n",
    "\n",
    "output_path.mkdir(exist_ok=True, parents=True)"
   ]
  },
  {
   "cell_type": "code",
   "execution_count": 5,
   "metadata": {},
   "outputs": [],
   "source": [
    "reference = \"average\"\n",
    "detector=\"linelength\"\n",
    "\n",
    "fpaths = {\n",
    "    \"E1\": [],\n",
    "    \"E3\": [],\n",
    "    \"E4\": [],\n",
    "    \"E5\": [],\n",
    "    \"E6\": [],\n",
    "    \"E7\": [],\n",
    "    \"E8\": []\n",
    "}\n",
    "sessions = {\n",
    "    \"postresection\": \"post\",\n",
    "    \"preresection\": \"pre\"\n",
    "}\n",
    "\n",
    "subjects = get_entity_vals(bids_root, 'subject')\n",
    "derivative_path = bids_root / \"derivatives\"\n",
    "derivative_chain = \"hfo/average\"\n",
    "derivative_dir = derivative_path / derivative_chain\n",
    "for subjectID in subjects:\n",
    "    for sessionID, taskID in sessions.items():\n",
    "        bids_paths = BIDSPath(subject=subjectID, session=sessionID,\n",
    "                          datatype=\"ieeg\",\n",
    "                          suffix=\"ieeg\", task=taskID,\n",
    "                          acquisition='ecog',\n",
    "                          processing=detector,\n",
    "                          run='01',\n",
    "                          extension=\".vhdr\", root=derivative_dir)\n",
    "        hfo_fpath = str(bids_paths).replace(\"_ieeg.vhdr\", \"_desc-hfo_ieeg.tsv\")\n",
    "        if Path(hfo_fpath).exists():\n",
    "            fpaths[subjectID].append(hfo_fpath)\n"
   ]
  },
  {
   "cell_type": "markdown",
   "metadata": {},
   "source": [
    "Load the results into annotation dataframes. Calculate the rate of HFOs per channel and put these lists into a dictionary that separates pre and post resection detections"
   ]
  },
  {
   "cell_type": "code",
   "execution_count": 6,
   "metadata": {},
   "outputs": [],
   "source": [
    "%%capture\n",
    "hfos =  {\n",
    "    \"E1\": {\n",
    "        \"preresection\": None,\n",
    "        \"postresection\": None,\n",
    "    },\n",
    "    \"E3\": {\n",
    "        \"preresection\": None,\n",
    "        \"postresection\": None,\n",
    "    },\n",
    "    \"E4\": {\n",
    "        \"preresection\": None,\n",
    "        \"postresection\": None,\n",
    "    },\n",
    "    \"E5\": {\n",
    "        \"preresection\": None,\n",
    "        \"postresection\": None,\n",
    "    },\n",
    "    \"E6\": {\n",
    "        \"preresection\": None,\n",
    "        \"postresection\": None,\n",
    "    },\n",
    "    \"E7\": {\n",
    "        \"preresection\": None,\n",
    "        \"postresection\": None,\n",
    "    },\n",
    "}\n",
    "for subject, recordings in fpaths.items():\n",
    "    if recordings:\n",
    "        post_tsv = recordings[0]\n",
    "        pre_tsv = recordings[1]\n",
    "        # Read tsv files into annotation dataframes\n",
    "        post_annotations = read_annotations(post_tsv)\n",
    "        pre_annotations = read_annotations(pre_tsv)\n",
    "        # Calculate hfos/min for each channel\n",
    "        hfos[subject][\"postresection\"] = compute_chs_hfo_rates(post_annotations, 'm')\n",
    "        hfos[subject][\"preresection\"] = compute_chs_hfo_rates(pre_annotations, 'm')"
   ]
  },
  {
   "cell_type": "code",
   "execution_count": 8,
   "metadata": {
    "scrolled": true
   },
   "outputs": [
    {
     "name": "stdout",
     "output_type": "stream",
     "text": [
      "Extracting parameters from /Users/adam2392/OneDrive - Johns Hopkins/sickkids/sub-E5/ses-preresection/ieeg/sub-E5_ses-preresection_task-pre_acq-ecog_run-01_ieeg.vhdr...\n",
      "Setting channel info structure...\n",
      "Reading channel info from /Users/adam2392/OneDrive - Johns Hopkins/sickkids/sub-E5/ses-preresection/ieeg/sub-E5_ses-preresection_task-pre_acq-ecog_run-01_channels.tsv.\n",
      "Reading in coordinate system frame Other: None.\n",
      "Reading electrode coords from /Users/adam2392/OneDrive - Johns Hopkins/sickkids/sub-E5/ses-preresection/ieeg/sub-E5_ses-preresection_acq-ecog_space-fs_electrodes.tsv.\n",
      "The read in electrodes file is: \n",
      " [('name', ['C1', 'C2', 'C3', 'C4', 'C5', 'C6', 'C7', 'C8', 'C9', 'C10', 'C11', 'C12', 'C13', 'C14', 'C15', 'C16', 'C17', 'C18', 'C19', 'C20', 'C21', 'C22', 'C23', 'C24', 'C25', 'C26', 'C27', 'C28', 'C29', 'C30', 'C31', 'C32', 'C33', 'C34', 'C35', 'C36', 'C37', 'C38', 'C39', 'C40', 'C41', 'C42', 'C43', 'C44', 'C45', 'C46', 'C47', 'C48', 'ML1', 'ML2', 'ML3', 'ML4', 'ML5', 'ML6', 'F3C1', 'F3C2', 'F3C3', 'F3C4', 'F3C5', 'F3C6', 'F1OF1', 'F1OF2', 'F1OF3', 'F1OF4', 'F1OF5', 'F1OF6', 'C67', 'C68', 'C69', 'C70', 'C71', 'C72', 'C73', 'C74', 'C75', 'C76', 'C77', 'C78', 'C79', 'C80', 'C81', 'C82', 'C83', 'C84', 'C85', 'C86', 'C87', 'C88', 'C89', 'C90', 'C91', 'C92', 'C93', 'C94', 'C95', 'C96', 'C97', 'C98', 'C99', 'C100', 'C101', 'C102', 'C103', 'C104', 'C105', 'C106', 'C107', 'C108', 'C109', 'C110', 'C111', 'C112', 'C113', 'C114', 'C115', 'C116', 'C117', 'C118', 'C119', 'C120', 'C121', 'C122', 'C123', 'LEMG1', 'LEMG2', 'REMG1', 'REMG2', 'EKG', 'DC1', 'DC2', 'DC3', 'DC4', 'DC5', 'DC6', 'DC7', 'DC8', 'DC9', 'DC10', 'DC11', 'DC12', 'DC13', 'DC14', 'DC15', 'DC16', 'TRIG', 'OSAT', 'PR', 'PLETH']), ('x', ['n/a', 'n/a', 'n/a', 'n/a', 'n/a', 'n/a', 'n/a', 'n/a', 'n/a', 'n/a', 'n/a', 'n/a', 'n/a', 'n/a', 'n/a', 'n/a', 'n/a', 'n/a', 'n/a', 'n/a', 'n/a', 'n/a', 'n/a', 'n/a', 'n/a', 'n/a', 'n/a', 'n/a', 'n/a', 'n/a', 'n/a', 'n/a', 'n/a', 'n/a', 'n/a', 'n/a', 'n/a', 'n/a', 'n/a', 'n/a', 'n/a', 'n/a', 'n/a', 'n/a', 'n/a', 'n/a', 'n/a', 'n/a', 'n/a', 'n/a', 'n/a', 'n/a', 'n/a', 'n/a', 'n/a', 'n/a', 'n/a', 'n/a', 'n/a', 'n/a', 'n/a', 'n/a', 'n/a', 'n/a', 'n/a', 'n/a', 'n/a', 'n/a', 'n/a', 'n/a', 'n/a', 'n/a', 'n/a', 'n/a', 'n/a', 'n/a', 'n/a', 'n/a', 'n/a', 'n/a', 'n/a', 'n/a', 'n/a', 'n/a', 'n/a', 'n/a', 'n/a', 'n/a', 'n/a', 'n/a', 'n/a', 'n/a', 'n/a', 'n/a', 'n/a', 'n/a', 'n/a', 'n/a', 'n/a', 'n/a', 'n/a', 'n/a', 'n/a', 'n/a', 'n/a', 'n/a', 'n/a', 'n/a', 'n/a', 'n/a', 'n/a', 'n/a', 'n/a', 'n/a', 'n/a', 'n/a', 'n/a', 'n/a', 'n/a', 'n/a', 'n/a', 'n/a', 'n/a', 'n/a', 'n/a', 'n/a', 'n/a', 'n/a', 'n/a', 'n/a', 'n/a', 'n/a', 'n/a', 'n/a', 'n/a', 'n/a', 'n/a', 'n/a', 'n/a', 'n/a', 'n/a', 'n/a', 'n/a', 'n/a', 'n/a', 'n/a', 'n/a', 'n/a']), ('y', ['n/a', 'n/a', 'n/a', 'n/a', 'n/a', 'n/a', 'n/a', 'n/a', 'n/a', 'n/a', 'n/a', 'n/a', 'n/a', 'n/a', 'n/a', 'n/a', 'n/a', 'n/a', 'n/a', 'n/a', 'n/a', 'n/a', 'n/a', 'n/a', 'n/a', 'n/a', 'n/a', 'n/a', 'n/a', 'n/a', 'n/a', 'n/a', 'n/a', 'n/a', 'n/a', 'n/a', 'n/a', 'n/a', 'n/a', 'n/a', 'n/a', 'n/a', 'n/a', 'n/a', 'n/a', 'n/a', 'n/a', 'n/a', 'n/a', 'n/a', 'n/a', 'n/a', 'n/a', 'n/a', 'n/a', 'n/a', 'n/a', 'n/a', 'n/a', 'n/a', 'n/a', 'n/a', 'n/a', 'n/a', 'n/a', 'n/a', 'n/a', 'n/a', 'n/a', 'n/a', 'n/a', 'n/a', 'n/a', 'n/a', 'n/a', 'n/a', 'n/a', 'n/a', 'n/a', 'n/a', 'n/a', 'n/a', 'n/a', 'n/a', 'n/a', 'n/a', 'n/a', 'n/a', 'n/a', 'n/a', 'n/a', 'n/a', 'n/a', 'n/a', 'n/a', 'n/a', 'n/a', 'n/a', 'n/a', 'n/a', 'n/a', 'n/a', 'n/a', 'n/a', 'n/a', 'n/a', 'n/a', 'n/a', 'n/a', 'n/a', 'n/a', 'n/a', 'n/a', 'n/a', 'n/a', 'n/a', 'n/a', 'n/a', 'n/a', 'n/a', 'n/a', 'n/a', 'n/a', 'n/a', 'n/a', 'n/a', 'n/a', 'n/a', 'n/a', 'n/a', 'n/a', 'n/a', 'n/a', 'n/a', 'n/a', 'n/a', 'n/a', 'n/a', 'n/a', 'n/a', 'n/a', 'n/a', 'n/a', 'n/a', 'n/a', 'n/a', 'n/a', 'n/a']), ('z', ['n/a', 'n/a', 'n/a', 'n/a', 'n/a', 'n/a', 'n/a', 'n/a', 'n/a', 'n/a', 'n/a', 'n/a', 'n/a', 'n/a', 'n/a', 'n/a', 'n/a', 'n/a', 'n/a', 'n/a', 'n/a', 'n/a', 'n/a', 'n/a', 'n/a', 'n/a', 'n/a', 'n/a', 'n/a', 'n/a', 'n/a', 'n/a', 'n/a', 'n/a', 'n/a', 'n/a', 'n/a', 'n/a', 'n/a', 'n/a', 'n/a', 'n/a', 'n/a', 'n/a', 'n/a', 'n/a', 'n/a', 'n/a', 'n/a', 'n/a', 'n/a', 'n/a', 'n/a', 'n/a', 'n/a', 'n/a', 'n/a', 'n/a', 'n/a', 'n/a', 'n/a', 'n/a', 'n/a', 'n/a', 'n/a', 'n/a', 'n/a', 'n/a', 'n/a', 'n/a', 'n/a', 'n/a', 'n/a', 'n/a', 'n/a', 'n/a', 'n/a', 'n/a', 'n/a', 'n/a', 'n/a', 'n/a', 'n/a', 'n/a', 'n/a', 'n/a', 'n/a', 'n/a', 'n/a', 'n/a', 'n/a', 'n/a', 'n/a', 'n/a', 'n/a', 'n/a', 'n/a', 'n/a', 'n/a', 'n/a', 'n/a', 'n/a', 'n/a', 'n/a', 'n/a', 'n/a', 'n/a', 'n/a', 'n/a', 'n/a', 'n/a', 'n/a', 'n/a', 'n/a', 'n/a', 'n/a', 'n/a', 'n/a', 'n/a', 'n/a', 'n/a', 'n/a', 'n/a', 'n/a', 'n/a', 'n/a', 'n/a', 'n/a', 'n/a', 'n/a', 'n/a', 'n/a', 'n/a', 'n/a', 'n/a', 'n/a', 'n/a', 'n/a', 'n/a', 'n/a', 'n/a', 'n/a', 'n/a', 'n/a', 'n/a', 'n/a', 'n/a', 'n/a']), ('size', ['12.566370614359172', '12.566370614359172', '12.566370614359172', '12.566370614359172', '12.566370614359172', '12.566370614359172', '12.566370614359172', '12.566370614359172', '12.566370614359172', '12.566370614359172', '12.566370614359172', '12.566370614359172', '12.566370614359172', '12.566370614359172', '12.566370614359172', '12.566370614359172', '12.566370614359172', '12.566370614359172', '12.566370614359172', '12.566370614359172', '12.566370614359172', '12.566370614359172', '12.566370614359172', '12.566370614359172', '12.566370614359172', '12.566370614359172', '12.566370614359172', '12.566370614359172', '12.566370614359172', '12.566370614359172', '12.566370614359172', '12.566370614359172', '12.566370614359172', '12.566370614359172', '12.566370614359172', '12.566370614359172', '12.566370614359172', '12.566370614359172', '12.566370614359172', '12.566370614359172', '12.566370614359172', '12.566370614359172', '12.566370614359172', '12.566370614359172', '12.566370614359172', '12.566370614359172', '12.566370614359172', '12.566370614359172', '0.9503317777109126', '0.9503317777109126', '0.9503317777109126', '0.9503317777109126', '0.9503317777109126', '0.9503317777109126', '0.9503317777109126', '0.9503317777109126', '0.9503317777109126', '0.9503317777109126', '0.9503317777109126', '0.9503317777109126', '0.9503317777109126', '0.9503317777109126', '0.9503317777109126', '0.9503317777109126', '0.9503317777109126', '0.9503317777109126', 'n/a', 'n/a', 'n/a', 'n/a', 'n/a', 'n/a', 'n/a', 'n/a', 'n/a', 'n/a', 'n/a', 'n/a', 'n/a', 'n/a', 'n/a', 'n/a', 'n/a', 'n/a', 'n/a', 'n/a', 'n/a', 'n/a', 'n/a', 'n/a', 'n/a', 'n/a', 'n/a', 'n/a', 'n/a', 'n/a', 'n/a', 'n/a', 'n/a', 'n/a', 'n/a', 'n/a', 'n/a', 'n/a', 'n/a', 'n/a', 'n/a', 'n/a', 'n/a', 'n/a', 'n/a', 'n/a', 'n/a', 'n/a', 'n/a', 'n/a', 'n/a', 'n/a', 'n/a', 'n/a', 'n/a', 'n/a', 'n/a', 'n/a', 'n/a', 'n/a', 'n/a', 'n/a', 'n/a', 'n/a', 'n/a', 'n/a', 'n/a', 'n/a', 'n/a', 'n/a', 'n/a', 'n/a', 'n/a', 'n/a', 'n/a', 'n/a', 'n/a', 'n/a', 'n/a', 'n/a', 'n/a', 'n/a'])]\n"
     ]
    },
    {
     "name": "stderr",
     "output_type": "stream",
     "text": [
      "/Users/adam2392/Documents/mne-hfo/mne_hfo/io.py:364: RuntimeWarning: Did not find any events.tsv associated with sub-E5_ses-preresection_task-pre_acq-ecog_run-01.\n",
      "\n",
      "The search_str was \"/Users/adam2392/OneDrive - Johns Hopkins/sickkids/sub-E5/**/sub-E5_ses-preresection*events.tsv\"\n",
      "  raw = read_raw_bids(raw_fpath)\n",
      "/Users/adam2392/Documents/mne-hfo/mne_hfo/io.py:364: RuntimeWarning: Defaulting coordinate frame to unknown from coordinate system input Other\n",
      "  raw = read_raw_bids(raw_fpath)\n",
      "/Users/adam2392/Documents/mne-hfo/mne_hfo/io.py:364: RuntimeWarning: There are channels without locations (n/a) that are not marked as bad: ['C2', 'C3', 'C4', 'C5', 'C6', 'C8', 'C10', 'C12', 'C13', 'C14', 'C15', 'C16', 'C18', 'C19', 'C20', 'C21', 'C22', 'C23', 'C24', 'C26', 'C27', 'C28', 'C29', 'C30', 'C31', 'C32', 'C34', 'C35', 'C36', 'C37', 'C38', 'C39', 'C40', 'C42', 'C43', 'C44', 'C45', 'C46', 'C47', 'C48', 'ML1', 'ML2', 'ML3', 'ML4', 'ML5', 'ML6', 'F3C1', 'F3C2', 'F3C3', 'F3C4', 'F3C5', 'F3C6', 'F1OF1', 'F1OF2', 'F1OF3', 'F1OF4', 'F1OF5', 'F1OF6', 'C67', 'C68', 'C69', 'C70', 'C71', 'C72', 'C73', 'C74', 'C75', 'C76', 'C77', 'C78', 'C79', 'C80', 'C81', 'C82', 'C83', 'C84', 'C85', 'C86', 'C87', 'C88', 'C89', 'C90', 'C91', 'C92', 'C93', 'C94', 'C95', 'C96', 'C97', 'C98', 'C99', 'C100', 'C101', 'C102', 'C103', 'C104', 'C105', 'C106', 'C107', 'C108', 'C109', 'C110', 'C111', 'C112', 'C113', 'C114', 'C115', 'C116', 'C117', 'C118', 'C119', 'C120', 'C121', 'C122', 'C123']\n",
      "  raw = read_raw_bids(raw_fpath)\n",
      "/Users/adam2392/Documents/mne-hfo/mne_hfo/io.py:364: RuntimeWarning: Fiducial point nasion not found, assuming identity unknown to head transformation\n",
      "  raw = read_raw_bids(raw_fpath)\n"
     ]
    }
   ],
   "source": [
    "%capture\n",
    "post_fpath = fpaths[\"E5\"][1]\n",
    "annotations = read_annotations(post_fpath)"
   ]
  },
  {
   "cell_type": "code",
   "execution_count": 11,
   "metadata": {},
   "outputs": [
    {
     "name": "stdout",
     "output_type": "stream",
     "text": [
      "(0, onset       2.8304\n",
      "duration    0.0976\n",
      "label          hfo\n",
      "channels        C2\n",
      "sample      5800.0\n",
      "Name: 0, dtype: object)\n",
      "(1, onset       3.7942\n",
      "duration    0.0732\n",
      "label          hfo\n",
      "channels        C2\n",
      "sample      7775.0\n",
      "Name: 1, dtype: object)\n",
      "(2, onset       3.8918\n",
      "duration    0.1098\n",
      "label          hfo\n",
      "channels        C2\n",
      "sample      7975.0\n",
      "Name: 2, dtype: object)\n",
      "(3, onset       4.2944\n",
      "duration    0.0854\n",
      "label          hfo\n",
      "channels        C2\n",
      "sample      8800.0\n",
      "Name: 3, dtype: object)\n"
     ]
    }
   ],
   "source": [
    "# print the first three HFO annotations in the dataframe\n",
    "for idx, ann in enumerate(annotations.iterrows()):\n",
    "    if idx > 3:\n",
    "        break\n",
    "    print(ann) "
   ]
  },
  {
   "cell_type": "markdown",
   "metadata": {},
   "source": [
    "# Compute statistical effect size differences"
   ]
  },
  {
   "cell_type": "markdown",
   "metadata": {},
   "source": [
    "Calculate the effect size between the pre and post resection hfo detection rates. Bootstrap resample (with replacement) 50 times"
   ]
  },
  {
   "cell_type": "code",
   "execution_count": 14,
   "metadata": {},
   "outputs": [],
   "source": [
    "n_resamples = 50\n",
    "# Create a dictionary of subjects and effect sizes\n",
    "data_dict = {\n",
    "    'subject': [],\n",
    "    'es': [],\n",
    "    'p-value': []\n",
    "}\n",
    "for ind, (subject, sessions) in enumerate(hfos.items()):\n",
    "    # Bootstrap resample\n",
    "    effects = np.zeros((n_resamples,))\n",
    "    pre_rates = list(sessions[\"preresection\"].values())\n",
    "    post_rates = list(sessions[\"postresection\"].values())\n",
    "    if subject == \"E5\":\n",
    "        # subject E5 postresection has no variance in detections. P-value cannot be calculated\n",
    "        pvalue = 1\n",
    "    else:\n",
    "        _, pvalue = KSample(\"Dcorr\").test(np.array(pre_rates), np.array(post_rates))\n",
    "    for i in range(n_resamples):\n",
    "        pre = resample(pre_rates, replace=True, n_samples=len(pre_rates))\n",
    "        post = resample(post_rates, replace=True, n_samples=len(post_rates))\n",
    "        effects[i] = pg.compute_effsize(pre, post, eftype='cohen')\n",
    "    # Add to the dictionary with subject repeated \n",
    "    data_dict['es'].extend(effects)\n",
    "    data_dict['subject'].extend([subject]*n_resamples)\n",
    "    data_dict['p-value'].extend([pvalue]*n_resamples)\n",
    "# Convert dictionary to DataFrame\n",
    "cohens_int = pd.DataFrame(data_dict)"
   ]
  },
  {
   "cell_type": "code",
   "execution_count": 16,
   "metadata": {},
   "outputs": [
    {
     "data": {
      "text/html": [
       "<div>\n",
       "<style scoped>\n",
       "    .dataframe tbody tr th:only-of-type {\n",
       "        vertical-align: middle;\n",
       "    }\n",
       "\n",
       "    .dataframe tbody tr th {\n",
       "        vertical-align: top;\n",
       "    }\n",
       "\n",
       "    .dataframe thead th {\n",
       "        text-align: right;\n",
       "    }\n",
       "</style>\n",
       "<table border=\"1\" class=\"dataframe\">\n",
       "  <thead>\n",
       "    <tr style=\"text-align: right;\">\n",
       "      <th></th>\n",
       "      <th>subject</th>\n",
       "      <th>es</th>\n",
       "      <th>p-value</th>\n",
       "    </tr>\n",
       "  </thead>\n",
       "  <tbody>\n",
       "    <tr>\n",
       "      <th>0</th>\n",
       "      <td>E1</td>\n",
       "      <td>1.143241</td>\n",
       "      <td>0.317311</td>\n",
       "    </tr>\n",
       "    <tr>\n",
       "      <th>1</th>\n",
       "      <td>E1</td>\n",
       "      <td>1.330175</td>\n",
       "      <td>0.317311</td>\n",
       "    </tr>\n",
       "    <tr>\n",
       "      <th>2</th>\n",
       "      <td>E1</td>\n",
       "      <td>0.975344</td>\n",
       "      <td>0.317311</td>\n",
       "    </tr>\n",
       "    <tr>\n",
       "      <th>3</th>\n",
       "      <td>E1</td>\n",
       "      <td>1.050526</td>\n",
       "      <td>0.317311</td>\n",
       "    </tr>\n",
       "    <tr>\n",
       "      <th>4</th>\n",
       "      <td>E1</td>\n",
       "      <td>1.188156</td>\n",
       "      <td>0.317311</td>\n",
       "    </tr>\n",
       "  </tbody>\n",
       "</table>\n",
       "</div>"
      ],
      "text/plain": [
       "  subject        es   p-value\n",
       "0      E1  1.143241  0.317311\n",
       "1      E1  1.330175  0.317311\n",
       "2      E1  0.975344  0.317311\n",
       "3      E1  1.050526  0.317311\n",
       "4      E1  1.188156  0.317311"
      ]
     },
     "metadata": {},
     "output_type": "display_data"
    }
   ],
   "source": [
    "display(cohens_int.head())"
   ]
  },
  {
   "cell_type": "code",
   "execution_count": 23,
   "metadata": {},
   "outputs": [
    {
     "data": {
      "text/html": [
       "<div>\n",
       "<style scoped>\n",
       "    .dataframe tbody tr th:only-of-type {\n",
       "        vertical-align: middle;\n",
       "    }\n",
       "\n",
       "    .dataframe tbody tr th {\n",
       "        vertical-align: top;\n",
       "    }\n",
       "\n",
       "    .dataframe thead tr th {\n",
       "        text-align: left;\n",
       "    }\n",
       "\n",
       "    .dataframe thead tr:last-of-type th {\n",
       "        text-align: right;\n",
       "    }\n",
       "</style>\n",
       "<table border=\"1\" class=\"dataframe\">\n",
       "  <thead>\n",
       "    <tr>\n",
       "      <th></th>\n",
       "      <th colspan=\"5\" halign=\"left\">es</th>\n",
       "    </tr>\n",
       "    <tr>\n",
       "      <th></th>\n",
       "      <th>amin</th>\n",
       "      <th>amax</th>\n",
       "      <th>median</th>\n",
       "      <th>first_quartile</th>\n",
       "      <th>third_quartile</th>\n",
       "    </tr>\n",
       "    <tr>\n",
       "      <th>subject</th>\n",
       "      <th></th>\n",
       "      <th></th>\n",
       "      <th></th>\n",
       "      <th></th>\n",
       "      <th></th>\n",
       "    </tr>\n",
       "  </thead>\n",
       "  <tbody>\n",
       "    <tr>\n",
       "      <th>E1</th>\n",
       "      <td>0.858169</td>\n",
       "      <td>1.857346</td>\n",
       "      <td>1.384032</td>\n",
       "      <td>1.168559</td>\n",
       "      <td>1.553104</td>\n",
       "    </tr>\n",
       "    <tr>\n",
       "      <th>E3</th>\n",
       "      <td>-0.052395</td>\n",
       "      <td>0.944244</td>\n",
       "      <td>0.400536</td>\n",
       "      <td>0.245618</td>\n",
       "      <td>0.477469</td>\n",
       "    </tr>\n",
       "    <tr>\n",
       "      <th>E4</th>\n",
       "      <td>-0.099173</td>\n",
       "      <td>1.085562</td>\n",
       "      <td>0.441813</td>\n",
       "      <td>0.275658</td>\n",
       "      <td>0.634552</td>\n",
       "    </tr>\n",
       "    <tr>\n",
       "      <th>E5</th>\n",
       "      <td>1.694089</td>\n",
       "      <td>2.487243</td>\n",
       "      <td>1.991414</td>\n",
       "      <td>1.876940</td>\n",
       "      <td>2.129617</td>\n",
       "    </tr>\n",
       "    <tr>\n",
       "      <th>E6</th>\n",
       "      <td>-0.627474</td>\n",
       "      <td>0.036978</td>\n",
       "      <td>-0.352127</td>\n",
       "      <td>-0.445234</td>\n",
       "      <td>-0.258978</td>\n",
       "    </tr>\n",
       "    <tr>\n",
       "      <th>E7</th>\n",
       "      <td>-1.245801</td>\n",
       "      <td>-0.648652</td>\n",
       "      <td>-0.949410</td>\n",
       "      <td>-1.000543</td>\n",
       "      <td>-0.840210</td>\n",
       "    </tr>\n",
       "  </tbody>\n",
       "</table>\n",
       "</div>"
      ],
      "text/plain": [
       "               es                                                  \n",
       "             amin      amax    median first_quartile third_quartile\n",
       "subject                                                            \n",
       "E1       0.858169  1.857346  1.384032       1.168559       1.553104\n",
       "E3      -0.052395  0.944244  0.400536       0.245618       0.477469\n",
       "E4      -0.099173  1.085562  0.441813       0.275658       0.634552\n",
       "E5       1.694089  2.487243  1.991414       1.876940       2.129617\n",
       "E6      -0.627474  0.036978 -0.352127      -0.445234      -0.258978\n",
       "E7      -1.245801 -0.648652 -0.949410      -1.000543      -0.840210"
      ]
     },
     "metadata": {},
     "output_type": "display_data"
    }
   ],
   "source": [
    "def first_quartile(x):\n",
    "    return np.percentile(x, 25)\n",
    "def third_quartile(x):\n",
    "    return np.percentile(x, 75)\n",
    "\n",
    "# print summary of box plot\n",
    "boxplot_es_summary = cohens_int[['subject', 'es']].groupby('subject').agg({'es': [np.min,np.max, np.median, first_quartile, third_quartile]})\n",
    "boxplot_es_summary.to_csv(output_path / 'supplemental data tables'/ 'supplemental_boxplot_summary_hfosubjs.csv')\n",
    "\n",
    "display(boxplot_es_summary)"
   ]
  },
  {
   "cell_type": "markdown",
   "metadata": {},
   "source": [
    "## Plot the results"
   ]
  },
  {
   "cell_type": "code",
   "execution_count": 25,
   "metadata": {},
   "outputs": [
    {
     "data": {
      "image/png": "[encoded data removed]",
      "text/plain": [
       "<Figure size 576x432 with 1 Axes>"
      ]
     },
     "metadata": {
      "needs_background": "light"
     },
     "output_type": "display_data"
    }
   ],
   "source": [
    "pal = sns.color_palette(n_colors=1)\n",
    "sns.set_context(\"paper\", font_scale=2.0)\n",
    "fig, ax = plt.subplots(figsize=(8, 6))\n",
    "sns.swarmplot(x='subject', y='es', data=cohens_int, ax=ax, palette=['gray'], size=4)\n",
    "sns.boxplot(x='subject', y='es', data=cohens_int, ax=ax, color = \"white\", linewidth=2)\n",
    "for i,box in enumerate(ax.artists):\n",
    "    box.set_edgecolor('black')\n",
    "    box.set_facecolor('white')\n",
    "\n",
    "    # iterate over whiskers and median lines\n",
    "    for j in range(6*i,6*(i+1)):\n",
    "         ax.lines[j].set_color('black')\n",
    "ax.axhline(\n",
    "    [0],\n",
    "    ls=\"--\",\n",
    "    lw=2,\n",
    "    color='red',\n",
    "    label=\"No change\",\n",
    ")\n",
    "ax.legend()\n",
    "ax.set(\n",
    "    #     ylim=[-1.5, 1.5],\n",
    "    xlabel=\"Subject\",\n",
    "    ylabel=f\"Cohens D \\n(Pre-Post Resection)\",\n",
    "    title=f\"Effect size difference between \\n pre/post resection HFO rates\",\n",
    ")\n",
    "fig.tight_layout()\n",
    "plt.savefig(output_path / 'hfo_effect_size.pdf', bbox_inches='tight')"
   ]
  },
  {
   "cell_type": "markdown",
   "metadata": {},
   "source": [
    "Display these results in a figure"
   ]
  },
  {
   "cell_type": "code",
   "execution_count": 16,
   "metadata": {
    "collapsed": true,
    "jupyter": {
     "outputs_hidden": true
    }
   },
   "outputs": [
    {
     "ename": "KeyError",
     "evalue": "'[4] not found in axis'",
     "output_type": "error",
     "traceback": [
      "\u001b[1;31m---------------------------------------------------------------------------\u001b[0m",
      "\u001b[1;31mKeyError\u001b[0m                                  Traceback (most recent call last)",
      "\u001b[1;32m<ipython-input-16-f8b564f43953>\u001b[0m in \u001b[0;36m<module>\u001b[1;34m\u001b[0m\n\u001b[0;32m      2\u001b[0m \u001b[0mmean\u001b[0m \u001b[1;33m=\u001b[0m \u001b[0mgrouped_df\u001b[0m\u001b[1;33m.\u001b[0m\u001b[0magg\u001b[0m\u001b[1;33m(\u001b[0m\u001b[1;33m[\u001b[0m\u001b[1;34m'mean'\u001b[0m\u001b[1;33m,\u001b[0m \u001b[0mnp\u001b[0m\u001b[1;33m.\u001b[0m\u001b[0mstd\u001b[0m\u001b[1;33m]\u001b[0m\u001b[1;33m)\u001b[0m\u001b[1;33m\u001b[0m\u001b[1;33m\u001b[0m\u001b[0m\n\u001b[0;32m      3\u001b[0m \u001b[1;31m#stdev = grouped_df.stdev('es')\u001b[0m\u001b[1;33m\u001b[0m\u001b[1;33m\u001b[0m\u001b[1;33m\u001b[0m\u001b[0m\n\u001b[1;32m----> 4\u001b[1;33m \u001b[0mmean\u001b[0m\u001b[1;33m.\u001b[0m\u001b[0mdrop\u001b[0m\u001b[1;33m(\u001b[0m\u001b[1;36m4\u001b[0m\u001b[1;33m)\u001b[0m\u001b[1;33m\u001b[0m\u001b[1;33m\u001b[0m\u001b[0m\n\u001b[0m",
      "\u001b[1;32m~\\.virtualenvs\\sickkids--kKd4nio\\lib\\site-packages\\pandas\\core\\frame.py\u001b[0m in \u001b[0;36mdrop\u001b[1;34m(self, labels, axis, index, columns, level, inplace, errors)\u001b[0m\n\u001b[0;32m   4306\u001b[0m                 \u001b[0mweight\u001b[0m  \u001b[1;36m1.0\u001b[0m     \u001b[1;36m0.8\u001b[0m\u001b[1;33m\u001b[0m\u001b[1;33m\u001b[0m\u001b[0m\n\u001b[0;32m   4307\u001b[0m         \"\"\"\n\u001b[1;32m-> 4308\u001b[1;33m         return super().drop(\n\u001b[0m\u001b[0;32m   4309\u001b[0m             \u001b[0mlabels\u001b[0m\u001b[1;33m=\u001b[0m\u001b[0mlabels\u001b[0m\u001b[1;33m,\u001b[0m\u001b[1;33m\u001b[0m\u001b[1;33m\u001b[0m\u001b[0m\n\u001b[0;32m   4310\u001b[0m             \u001b[0maxis\u001b[0m\u001b[1;33m=\u001b[0m\u001b[0maxis\u001b[0m\u001b[1;33m,\u001b[0m\u001b[1;33m\u001b[0m\u001b[1;33m\u001b[0m\u001b[0m\n",
      "\u001b[1;32m~\\.virtualenvs\\sickkids--kKd4nio\\lib\\site-packages\\pandas\\core\\generic.py\u001b[0m in \u001b[0;36mdrop\u001b[1;34m(self, labels, axis, index, columns, level, inplace, errors)\u001b[0m\n\u001b[0;32m   4151\u001b[0m         \u001b[1;32mfor\u001b[0m \u001b[0maxis\u001b[0m\u001b[1;33m,\u001b[0m \u001b[0mlabels\u001b[0m \u001b[1;32min\u001b[0m \u001b[0maxes\u001b[0m\u001b[1;33m.\u001b[0m\u001b[0mitems\u001b[0m\u001b[1;33m(\u001b[0m\u001b[1;33m)\u001b[0m\u001b[1;33m:\u001b[0m\u001b[1;33m\u001b[0m\u001b[1;33m\u001b[0m\u001b[0m\n\u001b[0;32m   4152\u001b[0m             \u001b[1;32mif\u001b[0m \u001b[0mlabels\u001b[0m \u001b[1;32mis\u001b[0m \u001b[1;32mnot\u001b[0m \u001b[1;32mNone\u001b[0m\u001b[1;33m:\u001b[0m\u001b[1;33m\u001b[0m\u001b[1;33m\u001b[0m\u001b[0m\n\u001b[1;32m-> 4153\u001b[1;33m                 \u001b[0mobj\u001b[0m \u001b[1;33m=\u001b[0m \u001b[0mobj\u001b[0m\u001b[1;33m.\u001b[0m\u001b[0m_drop_axis\u001b[0m\u001b[1;33m(\u001b[0m\u001b[0mlabels\u001b[0m\u001b[1;33m,\u001b[0m \u001b[0maxis\u001b[0m\u001b[1;33m,\u001b[0m \u001b[0mlevel\u001b[0m\u001b[1;33m=\u001b[0m\u001b[0mlevel\u001b[0m\u001b[1;33m,\u001b[0m \u001b[0merrors\u001b[0m\u001b[1;33m=\u001b[0m\u001b[0merrors\u001b[0m\u001b[1;33m)\u001b[0m\u001b[1;33m\u001b[0m\u001b[1;33m\u001b[0m\u001b[0m\n\u001b[0m\u001b[0;32m   4154\u001b[0m \u001b[1;33m\u001b[0m\u001b[0m\n\u001b[0;32m   4155\u001b[0m         \u001b[1;32mif\u001b[0m \u001b[0minplace\u001b[0m\u001b[1;33m:\u001b[0m\u001b[1;33m\u001b[0m\u001b[1;33m\u001b[0m\u001b[0m\n",
      "\u001b[1;32m~\\.virtualenvs\\sickkids--kKd4nio\\lib\\site-packages\\pandas\\core\\generic.py\u001b[0m in \u001b[0;36m_drop_axis\u001b[1;34m(self, labels, axis, level, errors)\u001b[0m\n\u001b[0;32m   4186\u001b[0m                 \u001b[0mnew_axis\u001b[0m \u001b[1;33m=\u001b[0m \u001b[0maxis\u001b[0m\u001b[1;33m.\u001b[0m\u001b[0mdrop\u001b[0m\u001b[1;33m(\u001b[0m\u001b[0mlabels\u001b[0m\u001b[1;33m,\u001b[0m \u001b[0mlevel\u001b[0m\u001b[1;33m=\u001b[0m\u001b[0mlevel\u001b[0m\u001b[1;33m,\u001b[0m \u001b[0merrors\u001b[0m\u001b[1;33m=\u001b[0m\u001b[0merrors\u001b[0m\u001b[1;33m)\u001b[0m\u001b[1;33m\u001b[0m\u001b[1;33m\u001b[0m\u001b[0m\n\u001b[0;32m   4187\u001b[0m             \u001b[1;32melse\u001b[0m\u001b[1;33m:\u001b[0m\u001b[1;33m\u001b[0m\u001b[1;33m\u001b[0m\u001b[0m\n\u001b[1;32m-> 4188\u001b[1;33m                 \u001b[0mnew_axis\u001b[0m \u001b[1;33m=\u001b[0m \u001b[0maxis\u001b[0m\u001b[1;33m.\u001b[0m\u001b[0mdrop\u001b[0m\u001b[1;33m(\u001b[0m\u001b[0mlabels\u001b[0m\u001b[1;33m,\u001b[0m \u001b[0merrors\u001b[0m\u001b[1;33m=\u001b[0m\u001b[0merrors\u001b[0m\u001b[1;33m)\u001b[0m\u001b[1;33m\u001b[0m\u001b[1;33m\u001b[0m\u001b[0m\n\u001b[0m\u001b[0;32m   4189\u001b[0m             \u001b[0mresult\u001b[0m \u001b[1;33m=\u001b[0m \u001b[0mself\u001b[0m\u001b[1;33m.\u001b[0m\u001b[0mreindex\u001b[0m\u001b[1;33m(\u001b[0m\u001b[1;33m**\u001b[0m\u001b[1;33m{\u001b[0m\u001b[0maxis_name\u001b[0m\u001b[1;33m:\u001b[0m \u001b[0mnew_axis\u001b[0m\u001b[1;33m}\u001b[0m\u001b[1;33m)\u001b[0m\u001b[1;33m\u001b[0m\u001b[1;33m\u001b[0m\u001b[0m\n\u001b[0;32m   4190\u001b[0m \u001b[1;33m\u001b[0m\u001b[0m\n",
      "\u001b[1;32m~\\.virtualenvs\\sickkids--kKd4nio\\lib\\site-packages\\pandas\\core\\indexes\\base.py\u001b[0m in \u001b[0;36mdrop\u001b[1;34m(self, labels, errors)\u001b[0m\n\u001b[0;32m   5589\u001b[0m         \u001b[1;32mif\u001b[0m \u001b[0mmask\u001b[0m\u001b[1;33m.\u001b[0m\u001b[0many\u001b[0m\u001b[1;33m(\u001b[0m\u001b[1;33m)\u001b[0m\u001b[1;33m:\u001b[0m\u001b[1;33m\u001b[0m\u001b[1;33m\u001b[0m\u001b[0m\n\u001b[0;32m   5590\u001b[0m             \u001b[1;32mif\u001b[0m \u001b[0merrors\u001b[0m \u001b[1;33m!=\u001b[0m \u001b[1;34m\"ignore\"\u001b[0m\u001b[1;33m:\u001b[0m\u001b[1;33m\u001b[0m\u001b[1;33m\u001b[0m\u001b[0m\n\u001b[1;32m-> 5591\u001b[1;33m                 \u001b[1;32mraise\u001b[0m \u001b[0mKeyError\u001b[0m\u001b[1;33m(\u001b[0m\u001b[1;34mf\"{labels[mask]} not found in axis\"\u001b[0m\u001b[1;33m)\u001b[0m\u001b[1;33m\u001b[0m\u001b[1;33m\u001b[0m\u001b[0m\n\u001b[0m\u001b[0;32m   5592\u001b[0m             \u001b[0mindexer\u001b[0m \u001b[1;33m=\u001b[0m \u001b[0mindexer\u001b[0m\u001b[1;33m[\u001b[0m\u001b[1;33m~\u001b[0m\u001b[0mmask\u001b[0m\u001b[1;33m]\u001b[0m\u001b[1;33m\u001b[0m\u001b[1;33m\u001b[0m\u001b[0m\n\u001b[0;32m   5593\u001b[0m         \u001b[1;32mreturn\u001b[0m \u001b[0mself\u001b[0m\u001b[1;33m.\u001b[0m\u001b[0mdelete\u001b[0m\u001b[1;33m(\u001b[0m\u001b[0mindexer\u001b[0m\u001b[1;33m)\u001b[0m\u001b[1;33m\u001b[0m\u001b[1;33m\u001b[0m\u001b[0m\n",
      "\u001b[1;31mKeyError\u001b[0m: '[4] not found in axis'"
     ]
    }
   ],
   "source": [
    "grouped_df = cohens_int.groupby('subject')\n",
    "mean = grouped_df.agg(['mean', np.std])\n",
    "#stdev = grouped_df.stdev('es')\n",
    "mean.drop(.columns[i], axis=1)"
   ]
  },
  {
   "cell_type": "code",
   "execution_count": null,
   "metadata": {},
   "outputs": [],
   "source": []
  }
 ],
 "metadata": {
  "kernelspec": {
   "display_name": "sickkids",
   "language": "python",
   "name": "sickkids"
  },
  "language_info": {
   "codemirror_mode": {
    "name": "ipython",
    "version": 3
   },
   "file_extension": ".py",
   "mimetype": "text/x-python",
   "name": "python",
   "nbconvert_exporter": "python",
   "pygments_lexer": "ipython3",
   "version": "3.8.6"
  }
 },
 "nbformat": 4,
 "nbformat_minor": 4
}
