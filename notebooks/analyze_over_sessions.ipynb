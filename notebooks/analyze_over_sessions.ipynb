{
 "cells": [
  {
   "cell_type": "markdown",
   "metadata": {},
   "source": [
    "# Analyze SickKids data over sessions\n",
    "\n",
    "For each of the derivative data, we will perform two analyses:\n",
    "\n",
    "1. Load all data and normalize with respect to fragility and show these over four sessions.\n",
    "\n",
    "2. Load all data and normalize with respect to a null distribution and show these four sessions over all electrodes"
   ]
  },
  {
   "cell_type": "code",
   "execution_count": 24,
   "metadata": {},
   "outputs": [],
   "source": [
    "import numpy as np\n",
    "import pandas as pd\n",
    "import mne\n",
    "import os\n",
    "import json\n",
    "import os.path as op\n",
    "from pathlib import Path\n",
    "\n",
    "from sklearn.datasets import make_spd_matrix\n",
    "from mne.io import RawArray\n",
    "from mne import create_info\n",
    "from mne_bids import BIDSPath\n",
    "import mne\n",
    "mne.utils.use_log_level('error')\n",
    "import seaborn as sns\n",
    "import matplotlib.pyplot as plt\n",
    "\n",
    "from eztrack.io.base import _add_desc_to_bids_fname\n",
    "from eztrack.io import read_derivative_npy\n",
    "from eztrack.fragility import lds_raw_fragility, DiscreteLinearSystem\n",
    "from eztrack.viz import _load_turbo, generate_heatmap\n",
    "from eztrack.posthoc.hypo import compute_null\n",
    "\n",
    "_load_turbo()\n",
    "\n",
    "%matplotlib inline"
   ]
  },
  {
   "cell_type": "code",
   "execution_count": 85,
   "metadata": {},
   "outputs": [
    {
     "name": "stdout",
     "output_type": "stream",
     "text": [
      "<DerivativeNumpy | sub-E7_ses-preresection_task-Pre_acq-ecog_run-01_desc-perturbmatrix_ieeg.npy, 111 x 1243 (151.5 s), ~1.3 MB, data loaded>\n",
      "<DerivativeNumpy | sub-E7_ses-postresection_task-Post_acq-ecog_run-01_desc-perturbmatrix_ieeg.npy, 70 x 1343 (163.7 s), ~918 kB, data loaded>\n",
      "(2586,)\n"
     ]
    },
    {
     "name": "stderr",
     "output_type": "stream",
     "text": [
      "/Users/adam2392/Documents/eztrack/eztrack/io/npy/npy.py:181: RuntimeWarning: There are channels without locations (n/a) that are not marked as bad: ['C1', 'C2', 'C3', 'C4', 'C5', 'C6', 'C7', 'C8', 'C9', 'C10', 'C11', 'C13', 'C14', 'C15', 'C16', 'C17', 'C18', 'C19', 'C20', 'C21', 'C22', 'C23', 'C24', 'C25', 'C26', 'C27', 'C28', 'C29', 'C30', 'C31', 'C32', 'C33', 'C34', 'C35', 'C36', 'C37', 'C38', 'C39', 'C40', 'C41', 'C42', 'C43', 'C44', 'C45', 'C46', 'C47', 'C48', 'C49', 'C50', 'C51', 'C52', 'C53', 'C54', 'C55', 'C56', 'C57', 'C58', 'C59', 'C60', 'C61', 'C62', 'C63', 'C64', 'AD1', 'AD2', 'AD3', 'AD4', 'AD5', 'AD6', 'HD1', 'HD2', 'HD3', 'HD4', 'HD5', 'HD6', 'TOD1', 'TOD2', 'TOD3', 'TOD4', 'TOD5', 'TOD6', 'POD1', 'POD2', 'POD3', 'POD4', 'POD5', 'POD6', 'FOD1', 'FOD2', 'FOD3', 'FOD4', 'FOD5', 'FOD6', 'ATPS1', 'ATPS2', 'ATPS3', 'ATPS4', 'ATPS5', 'ATPS6', 'ABTS1', 'ABTS2', 'ABTS3', 'ABTS4', 'ABTS5', 'ABTS6', 'PBTS1', 'PBTS2', 'PBTS3', 'PBTS4', 'PBTS5', 'PBTS6', 'C113', 'C114', 'C115', 'C116', 'C117', 'C118', 'C119', 'C120', 'C121', 'C122', 'C123']\n",
      "  raw = read_raw_bids(source_bids_path, verbose=verbose)\n",
      "/Users/adam2392/Documents/eztrack/eztrack/io/npy/npy.py:181: RuntimeWarning: Fiducial point nasion not found, assuming identity unknown to head transformation\n",
      "  raw = read_raw_bids(source_bids_path, verbose=verbose)\n",
      "/Users/adam2392/Documents/eztrack/eztrack/io/mixins.py:109: RuntimeWarning: Fiducial point nasion not found, assuming identity unknown to head transformation\n",
      "  mnt_head = _get_montage_in_head(montage)\n",
      "/Users/adam2392/Documents/eztrack/eztrack/io/npy/npy.py:181: RuntimeWarning: There are channels without locations (n/a) that are not marked as bad: ['C1', 'C2', 'C3', 'C4', 'C5', 'C6', 'C7', 'C8', 'C9', 'C10', 'C11', 'C13', 'C14', 'C15', 'C16', 'C17', 'C18', 'C19', 'C20', 'C21', 'C22', 'C23', 'C25', 'C26', 'C27', 'C28', 'C29', 'C30', 'C31', 'C32', 'C33', 'C34', 'C35', 'C36', 'C37', 'C39', 'C40', 'C43', 'C44', 'C45', 'C46', 'C47', 'C48', 'C52', 'C53', 'C54', 'C55', 'C56', 'C61', 'C62', 'C63', 'C64', 'TOD1', 'TOD2', 'TOD3', 'TOD4', 'TOD5', 'TOD6', 'POD1', 'POD2', 'POD3', 'POD4', 'POD5', 'POD6', 'FOD1', 'FOD2', 'FOD3', 'FOD4', 'FOD5', 'FOD6', 'C113', 'C114', 'C115', 'C116', 'C117', 'C118', 'C119', 'C120', 'C121', 'C122', 'C123']\n",
      "  raw = read_raw_bids(source_bids_path, verbose=verbose)\n",
      "/Users/adam2392/Documents/eztrack/eztrack/io/npy/npy.py:181: RuntimeWarning: Fiducial point nasion not found, assuming identity unknown to head transformation\n",
      "  raw = read_raw_bids(source_bids_path, verbose=verbose)\n",
      "/Users/adam2392/Documents/eztrack/eztrack/io/mixins.py:109: RuntimeWarning: Fiducial point nasion not found, assuming identity unknown to head transformation\n",
      "  mnt_head = _get_montage_in_head(montage)\n"
     ]
    }
   ],
   "source": [
    "# load in originally ran npy data\n",
    "root = Path('/Users/adam2392/OneDrive - Johns Hopkins/sickkids/')\n",
    "deriv_root = root / 'derivatives'\n",
    "reference = 'monopolar'\n",
    "deriv_chain = Path('originalsampling') / 'radius1.5' / 'fragility' / reference\n",
    "\n",
    "subject = 'E7'\n",
    "sessions = ['extraoperative', 'preresection', \n",
    "            'intraresection', 'postresection']\n",
    "desc = 'perturbmatrix'\n",
    "\n",
    "# derivative path\n",
    "deriv_path = deriv_root / deriv_chain / f'sub-{subject}'\n",
    "\n",
    "deriv_data_mean = []\n",
    "deriv_data_std = []\n",
    "session_marks = dict()\n",
    "session_data = []\n",
    "\n",
    "derivs = None\n",
    "for session in sessions:\n",
    "    pattern = f'*ses-{session}*desc-{desc}*.json'\n",
    "\n",
    "    # get all json paths\n",
    "    fpaths = list(deriv_path.glob(pattern))\n",
    "    \n",
    "    for idx, fpath in enumerate(fpaths):\n",
    "        perturb_deriv = read_derivative_npy(fpath, preload=True, verbose=False)\n",
    "        if idx == 0:\n",
    "            derivs = perturb_deriv\n",
    "        else:\n",
    "            derivs.append(perturb_deriv)\n",
    "        perturb_deriv.normalize()\n",
    "        frag_mat = perturb_deriv.get_data()\n",
    "#         print(perturb_deriv)\n",
    "#         deriv_data.extend(perturb_deriv.get_data())\n",
    "        \n",
    "        deriv_data_mean.extend(frag_mat.mean(axis=0))\n",
    "        deriv_data_std.extend(frag_mat.std(axis=0))\n",
    "        session_marks[session] = len(deriv_data_mean)\n",
    "        \n",
    "        session_data.append(perturb_deriv)\n",
    "        break\n",
    "        \n",
    "deriv_data_mean = np.array(deriv_data_mean)\n",
    "deriv_data_std = np.array(deriv_data_std)\n",
    "\n",
    "print(deriv_data_mean.shape)"
   ]
  },
  {
   "cell_type": "code",
   "execution_count": 86,
   "metadata": {},
   "outputs": [],
   "source": [
    "# fig, ax = plt.subplots()\n",
    "\n",
    "# ax.plot(deriv_data_mean)\n",
    "# ax.fill_between(np.arange(len(deriv_data_mean)), \n",
    "#                 deriv_data_mean - deriv_data_std, \n",
    "#                 deriv_data_mean + deriv_data_std, color='blue',\n",
    "#                alpha=0.5)\n",
    "# colors = plt.rcParams['axes.prop_cycle'].by_key()['color']\n",
    "# for idx, (label, vline) in enumerate(session_marks.items()):\n",
    "#     color = colors[idx]\n",
    "#     ax.axvline(vline, label=label, color=color)\n",
    "# ax.legend()\n",
    "# ax.set(\n",
    "#     xlabel='Time (A.U.)',\n",
    "#     ylabel='Normalized Fragility (Mean +/- Std)',\n",
    "#     title=f'{subject} - {reference}',\n",
    "#     ylim=[0,1],\n",
    "# )\n",
    "# figure_fpath = deriv_root / 'figures' / 'concatenated-sessions' /  f'{subject}-allsessions-{reference}.png'\n",
    "# figure_fpath.parent.mkdir(exist_ok=True, parents=True)\n",
    "# fig.savefig(figure_fpath)"
   ]
  },
  {
   "cell_type": "markdown",
   "metadata": {},
   "source": [
    "# Only look at upper quantiles"
   ]
  },
  {
   "cell_type": "code",
   "execution_count": 87,
   "metadata": {},
   "outputs": [
    {
     "data": {
      "image/png": "[encoded data removed]",
      "text/plain": [
       "<Figure size 432x288 with 1 Axes>"
      ]
     },
     "metadata": {
      "needs_background": "light"
     },
     "output_type": "display_data"
    }
   ],
   "source": [
    "fig, ax = plt.subplots()\n",
    "\n",
    "deriv_data_mean = []\n",
    "for ses_deriv in session_data:\n",
    "    deriv_data_mean.extend(np.quantile(ses_deriv.get_data(), 0.9, axis=0))\n",
    "    \n",
    "ax.plot(deriv_data_mean)\n",
    "# ax.fill_between(np.arange(len(deriv_data_mean)), \n",
    "#                 deriv_data_mean - deriv_data_std, \n",
    "#                 deriv_data_mean + deriv_data_std, color='blue',\n",
    "#                alpha=0.5)\n",
    "colors = plt.rcParams['axes.prop_cycle'].by_key()['color']\n",
    "for idx, (label, vline) in enumerate(session_marks.items()):\n",
    "    color = colors[idx]\n",
    "    ax.axvline(vline, label=label, color=color)\n",
    "ax.legend()\n",
    "ax.set(\n",
    "    xlabel='Time (A.U.)',\n",
    "    ylabel='Normalized Fragility (Mean +/- Std)',\n",
    "    title=f'{subject} - {reference}',\n",
    "    ylim=[0,1],\n",
    ")\n",
    "figure_fpath = deriv_root / 'figures' / 'concatenated-sessions' /  f'{subject}-allsessions-{reference}.png'\n",
    "figure_fpath.parent.mkdir(exist_ok=True, parents=True)\n",
    "fig.savefig(figure_fpath)\n",
    "\n"
   ]
  },
  {
   "cell_type": "code",
   "execution_count": null,
   "metadata": {},
   "outputs": [],
   "source": []
  },
  {
   "cell_type": "code",
   "execution_count": null,
   "metadata": {},
   "outputs": [],
   "source": []
  }
 ],
 "metadata": {
  "kernelspec": {
   "display_name": "sickkids",
   "language": "python",
   "name": "sickkids"
  },
  "language_info": {
   "codemirror_mode": {
    "name": "ipython",
    "version": 3
   },
   "file_extension": ".py",
   "mimetype": "text/x-python",
   "name": "python",
   "nbconvert_exporter": "python",
   "pygments_lexer": "ipython3",
   "version": "3.7.8"
  }
 },
 "nbformat": 4,
 "nbformat_minor": 4
}
