{
 "cells": [
  {
   "cell_type": "code",
   "execution_count": 5,
   "id": "df4e007b",
   "metadata": {},
   "outputs": [
    {
     "name": "stdout",
     "output_type": "stream",
     "text": [
      "Using notebook 3d backend.\n",
      "\n",
      "Automatically created module for IPython interactive environment\n"
     ]
    }
   ],
   "source": [
    "# Authors: Eric Larson <larson.eric.d@gmail.com>\n",
    "#          Chris Holdgraf <choldgraf@gmail.com>\n",
    "#          Adam Li <adam2392@gmail.com>\n",
    "#          Alex Rockhill <aprockhill@mailbox.org>\n",
    "#          Liberty Hamilton <libertyhamilton@gmail.com>\n",
    "#\n",
    "# License: BSD (3-clause)\n",
    "\n",
    "import os.path as op\n",
    "\n",
    "import numpy as np\n",
    "import matplotlib.pyplot as plt\n",
    "from matplotlib.cm import get_cmap\n",
    "from mne_bids import BIDSPath, read_raw_bids\n",
    "\n",
    "import mne\n",
    "from mne.viz import plot_alignment, snapshot_brain_montage\n",
    "\n",
    "mne.viz.set_3d_backend(\"notebook\")\n",
    "print(__doc__)\n",
    "\n",
    "# paths to mne datasets - sample ECoG and FreeSurfer subject\n",
    "bids_root = mne.datasets.epilepsy_ecog.data_path()\n",
    "sample_path = mne.datasets.sample.data_path()\n",
    "subjects_dir = op.join(sample_path, 'subjects')"
   ]
  },
  {
   "cell_type": "code",
   "execution_count": 2,
   "id": "8117d044",
   "metadata": {},
   "outputs": [
    {
     "name": "stdout",
     "output_type": "stream",
     "text": [
      "Extracting parameters from /Users/adam2392/mne_data/MNE-epilepsy-ecog-data/sub-pt1/ses-presurgery/ieeg/sub-pt1_ses-presurgery_task-ictal_ieeg.vhdr...\n",
      "Setting channel info structure...\n",
      "Reading events from /Users/adam2392/mne_data/MNE-epilepsy-ecog-data/sub-pt1/ses-presurgery/ieeg/sub-pt1_ses-presurgery_task-ictal_events.tsv.\n",
      "Reading channel info from /Users/adam2392/mne_data/MNE-epilepsy-ecog-data/sub-pt1/ses-presurgery/ieeg/sub-pt1_ses-presurgery_task-ictal_channels.tsv.\n",
      "Reading electrode coords from /Users/adam2392/mne_data/MNE-epilepsy-ecog-data/sub-pt1/ses-presurgery/ieeg/sub-pt1_ses-presurgery_space-fsaverage_electrodes.tsv.\n",
      "Reading 0 ... 269079  =      0.000 ...   269.079 secs...\n"
     ]
    },
    {
     "name": "stderr",
     "output_type": "stream",
     "text": [
      "<ipython-input-2-4eb508ffbb46>:8: RuntimeWarning: Fiducial point nasion not found, assuming identity unknown to head transformation\n",
      "  raw = read_raw_bids(bids_path=bids_path, verbose=False)\n",
      "<ipython-input-2-4eb508ffbb46>:8: RuntimeWarning: DigMontage is only a subset of info. There are 3 channel positions not present in the DigMontage. The required channels are:\n",
      "\n",
      "['RQ1', 'RQ2', 'N/A'].\n",
      "\n",
      "Consider using inst.set_channel_types if these are not EEG channels, or use the on_missing parameter if the channel positions are allowed to be unknown in your analyses.\n",
      "  raw = read_raw_bids(bids_path=bids_path, verbose=False)\n"
     ]
    },
    {
     "name": "stdout",
     "output_type": "stream",
     "text": [
      "Setting up band-stop filter from 58 - 62 Hz\n",
      "\n",
      "FIR filter parameters\n",
      "---------------------\n",
      "Designing a one-pass, zero-phase, non-causal bandstop filter:\n",
      "- Windowed time-domain design (firwin) method\n",
      "- Hamming window with 0.0194 passband ripple and 53 dB stopband attenuation\n",
      "- Lower passband edge: 58.35\n",
      "- Lower transition bandwidth: 1.50 Hz (-6 dB cutoff frequency: 57.60 Hz)\n",
      "- Upper passband edge: 61.65 Hz\n",
      "- Upper transition bandwidth: 1.50 Hz (-6 dB cutoff frequency: 62.40 Hz)\n",
      "- Filter length: 2201 samples (2.201 sec)\n",
      "\n",
      "mni_tal\n",
      "Used Annotations descriptions: ['AD1-4, ATT1,2', 'AST1,3', 'G16', 'PD', 'SLT1-3', 'offset', 'onset']\n",
      "Not setting metadata\n",
      "Not setting metadata\n",
      "1 matching events found\n",
      "No baseline correction applied\n",
      "0 projection items activated\n",
      "Loading data for 1 events and 25001 original time points ...\n",
      "0 bad epochs dropped\n"
     ]
    }
   ],
   "source": [
    "# first define the bids path\n",
    "bids_path = BIDSPath(root=bids_root, subject='pt1', session='presurgery',\n",
    "                     task='ictal', datatype='ieeg', extension='vhdr')\n",
    "\n",
    "# then we'll use it to load in the sample dataset\n",
    "# Here we use a format (iEEG) that is only available in MNE-BIDS 0.7+, so it\n",
    "# will emit a warning on versions <= 0.6\n",
    "raw = read_raw_bids(bids_path=bids_path, verbose=False)\n",
    "\n",
    "# Pick only the ECoG channels, removing the EKG channels\n",
    "raw.pick_types(ecog=True)\n",
    "\n",
    "# Load the data\n",
    "raw.load_data()\n",
    "\n",
    "# Then we remove line frequency interference\n",
    "raw.notch_filter([60], trans_bandwidth=3)\n",
    "\n",
    "# drop bad channels\n",
    "raw.drop_channels(raw.info['bads'])\n",
    "\n",
    "# the coordinate frame of the montage\n",
    "print(raw.get_montage().get_positions()['coord_frame'])\n",
    "\n",
    "# Find the annotated events\n",
    "events, event_id = mne.events_from_annotations(raw)\n",
    "\n",
    "# Make a 25 second epoch that spans before and after the seizure onset\n",
    "epoch_length = 25  # seconds\n",
    "epochs = mne.Epochs(raw, events, event_id=event_id['onset'],\n",
    "                    tmin=13, tmax=13 + epoch_length, baseline=None)\n",
    "\n",
    "# And then load data and downsample.\n",
    "# .. note: This is just to save execution time in this example, you should\n",
    "#          not need to do this in general!\n",
    "epochs.load_data()\n",
    "epochs.resample(200)  # Hz, will also load the data for us\n",
    "\n",
    "# Finally, make evoked from the one epoch\n",
    "evoked = epochs.average()"
   ]
  },
  {
   "cell_type": "code",
   "execution_count": 12,
   "id": "6b41ddf4",
   "metadata": {},
   "outputs": [
    {
     "name": "stdout",
     "output_type": "stream",
     "text": [
      "Plotting 84 ECoG locations\n"
     ]
    },
    {
     "data": {
      "application/vnd.jupyter.widget-view+json": {
       "model_id": "c44f0cb703004dafb4698d20a8446c06",
       "version_major": 2,
       "version_minor": 0
      },
      "text/plain": [
       "HBox(children=(Text(value='', layout=Layout(margin='2px 0px 2px 0px', min_width='0px'), placeholder='Type a fi…"
      ]
     },
     "metadata": {},
     "output_type": "display_data"
    },
    {
     "data": {
      "application/vnd.jupyter.widget-view+json": {
       "model_id": "5ff5613db1864fd79367318caf828d92",
       "version_major": 2,
       "version_minor": 0
      },
      "text/plain": [
       "ViewInteractiveWidget(height=800, layout=Layout(height='auto'), width=800)"
      ]
     },
     "metadata": {},
     "output_type": "display_data"
    }
   ],
   "source": [
    "%matplotlib widget\n",
    "fig = plot_alignment(raw.info, subject='fsaverage', subjects_dir=subjects_dir,\n",
    "                     surfaces=['pial'], coord_frame='mri')\n",
    "az, el, focalpoint = 160, -70, [0.067, -0.040, 0.018]\n",
    "mne.viz.set_3d_view(fig, \n",
    "#                     azimuth=az, elevation=el, focalpoint=focalpoint\n",
    "                   )\n",
    "\n",
    "xy, im = snapshot_brain_montage(fig, raw.info)"
   ]
  },
  {
   "cell_type": "code",
   "execution_count": null,
   "id": "35178daf",
   "metadata": {},
   "outputs": [],
   "source": []
  },
  {
   "cell_type": "code",
   "execution_count": null,
   "id": "4a8423df",
   "metadata": {},
   "outputs": [],
   "source": []
  },
  {
   "cell_type": "code",
   "execution_count": null,
   "id": "7970910e",
   "metadata": {},
   "outputs": [],
   "source": []
  },
  {
   "cell_type": "code",
   "execution_count": null,
   "id": "7d1214fc",
   "metadata": {},
   "outputs": [],
   "source": []
  }
 ],
 "metadata": {
  "kernelspec": {
   "display_name": "sickkids",
   "language": "python",
   "name": "sickkids"
  },
  "language_info": {
   "codemirror_mode": {
    "name": "ipython",
    "version": 3
   },
   "file_extension": ".py",
   "mimetype": "text/x-python",
   "name": "python",
   "nbconvert_exporter": "python",
   "pygments_lexer": "ipython3",
   "version": "3.8.6"
  }
 },
 "nbformat": 4,
 "nbformat_minor": 5
}
