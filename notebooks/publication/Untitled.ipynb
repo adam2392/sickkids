{
 "cells": [
  {
   "cell_type": "code",
   "execution_count": 2,
   "id": "a787d290",
   "metadata": {},
   "outputs": [
    {
     "name": "stdout",
     "output_type": "stream",
     "text": [
      "Automatically created module for IPython interactive environment\n"
     ]
    }
   ],
   "source": [
    "# Authors: Eric Larson <larson.eric.d@gmail.com>\n",
    "#          Chris Holdgraf <choldgraf@gmail.com>\n",
    "#          Adam Li <adam2392@gmail.com>\n",
    "#          Alex Rockhill <aprockhill@mailbox.org>\n",
    "#          Liberty Hamilton <libertyhamilton@gmail.com>\n",
    "#\n",
    "# License: BSD (3-clause)\n",
    "\n",
    "import os.path as op\n",
    "\n",
    "import numpy as np\n",
    "import matplotlib.pyplot as plt\n",
    "import matplotlib\n",
    "from matplotlib.cm import get_cmap\n",
    "from mne_bids import BIDSPath, read_raw_bids\n",
    "\n",
    "import mne\n",
    "from mne.viz import plot_alignment, snapshot_brain_montage\n",
    "\n",
    "# matplotlib.use('MACOSX')\n",
    "matplotlib.use('Qt5Agg')\n",
    "# mne.viz.set_3d_backend(\"notebook\")\n",
    "print(__doc__)\n",
    "\n",
    "# paths to mne datasets - sample ECoG and FreeSurfer subject\n",
    "bids_root = mne.datasets.epilepsy_ecog.data_path()\n",
    "sample_path = mne.datasets.sample.data_path()\n",
    "subjects_dir = op.join(sample_path, 'subjects')"
   ]
  },
  {
   "cell_type": "code",
   "execution_count": 3,
   "id": "59c20261",
   "metadata": {},
   "outputs": [
    {
     "name": "stdout",
     "output_type": "stream",
     "text": [
      "Platform:      macOS-10.16-x86_64-i386-64bit\n",
      "Python:        3.8.6 | packaged by conda-forge | (default, Jan 25 2021, 23:22:12)  [Clang 11.0.1 ]\n",
      "Executable:    /Users/adam2392/Documents/sickkids/.venv/bin/python\n",
      "CPU:           i386: 8 cores\n",
      "Memory:        Unavailable (requires \"psutil\" package)\n",
      "mne:           0.24.dev0\n",
      "numpy:         1.20.1 {blas=openblas, lapack=openblas}\n",
      "scipy:         1.6.0\n",
      "matplotlib:    3.4.2 {backend=Qt5Agg}\n",
      "\n",
      "sklearn:       0.24.1\n",
      "numba:         0.52.0\n",
      "nibabel:       3.2.1\n",
      "nilearn:       Not found\n",
      "dipy:          Not found\n",
      "cupy:          Not found\n",
      "pandas:        1.2.2\n",
      "mayavi:        Not found\n",
      "pyvista:       0.30.1 {pyvistaqt=0.4.0, OpenGL 4.1 ATI-4.4.17 via AMD Radeon Pro 560 OpenGL Engine}\n",
      "vtk:           9.0.1\n",
      "PyQt5:         5.15.2\n",
      "None\n"
     ]
    }
   ],
   "source": [
    "print(mne.sys_info())"
   ]
  },
  {
   "cell_type": "code",
   "execution_count": 4,
   "id": "c040a54c",
   "metadata": {},
   "outputs": [
    {
     "name": "stdout",
     "output_type": "stream",
     "text": [
      "Extracting parameters from /Users/adam2392/mne_data/MNE-epilepsy-ecog-data/sub-pt1/ses-presurgery/ieeg/sub-pt1_ses-presurgery_task-ictal_ieeg.vhdr...\n",
      "Setting channel info structure...\n",
      "Reading events from /Users/adam2392/mne_data/MNE-epilepsy-ecog-data/sub-pt1/ses-presurgery/ieeg/sub-pt1_ses-presurgery_task-ictal_events.tsv.\n",
      "Reading channel info from /Users/adam2392/mne_data/MNE-epilepsy-ecog-data/sub-pt1/ses-presurgery/ieeg/sub-pt1_ses-presurgery_task-ictal_channels.tsv.\n",
      "Reading electrode coords from /Users/adam2392/mne_data/MNE-epilepsy-ecog-data/sub-pt1/ses-presurgery/ieeg/sub-pt1_ses-presurgery_space-fsaverage_electrodes.tsv.\n",
      "Reading 0 ... 269079  =      0.000 ...   269.079 secs...\n"
     ]
    },
    {
     "name": "stderr",
     "output_type": "stream",
     "text": [
      "<ipython-input-4-4eb508ffbb46>:8: RuntimeWarning: Fiducial point nasion not found, assuming identity unknown to head transformation\n",
      "  raw = read_raw_bids(bids_path=bids_path, verbose=False)\n",
      "<ipython-input-4-4eb508ffbb46>:8: RuntimeWarning: DigMontage is only a subset of info. There are 3 channel positions not present in the DigMontage. The required channels are:\n",
      "\n",
      "['RQ1', 'RQ2', 'N/A'].\n",
      "\n",
      "Consider using inst.set_channel_types if these are not EEG channels, or use the on_missing parameter if the channel positions are allowed to be unknown in your analyses.\n",
      "  raw = read_raw_bids(bids_path=bids_path, verbose=False)\n"
     ]
    },
    {
     "name": "stdout",
     "output_type": "stream",
     "text": [
      "Setting up band-stop filter from 58 - 62 Hz\n",
      "\n",
      "FIR filter parameters\n",
      "---------------------\n",
      "Designing a one-pass, zero-phase, non-causal bandstop filter:\n",
      "- Windowed time-domain design (firwin) method\n",
      "- Hamming window with 0.0194 passband ripple and 53 dB stopband attenuation\n",
      "- Lower passband edge: 58.35\n",
      "- Lower transition bandwidth: 1.50 Hz (-6 dB cutoff frequency: 57.60 Hz)\n",
      "- Upper passband edge: 61.65 Hz\n",
      "- Upper transition bandwidth: 1.50 Hz (-6 dB cutoff frequency: 62.40 Hz)\n",
      "- Filter length: 2201 samples (2.201 sec)\n",
      "\n",
      "mni_tal\n",
      "Used Annotations descriptions: ['AD1-4, ATT1,2', 'AST1,3', 'G16', 'PD', 'SLT1-3', 'offset', 'onset']\n",
      "Not setting metadata\n",
      "Not setting metadata\n",
      "1 matching events found\n",
      "No baseline correction applied\n",
      "0 projection items activated\n",
      "Loading data for 1 events and 25001 original time points ...\n",
      "0 bad epochs dropped\n"
     ]
    }
   ],
   "source": [
    "# first define the bids path\n",
    "bids_path = BIDSPath(root=bids_root, subject='pt1', session='presurgery',\n",
    "                     task='ictal', datatype='ieeg', extension='vhdr')\n",
    "\n",
    "# then we'll use it to load in the sample dataset\n",
    "# Here we use a format (iEEG) that is only available in MNE-BIDS 0.7+, so it\n",
    "# will emit a warning on versions <= 0.6\n",
    "raw = read_raw_bids(bids_path=bids_path, verbose=False)\n",
    "\n",
    "# Pick only the ECoG channels, removing the EKG channels\n",
    "raw.pick_types(ecog=True)\n",
    "\n",
    "# Load the data\n",
    "raw.load_data()\n",
    "\n",
    "# Then we remove line frequency interference\n",
    "raw.notch_filter([60], trans_bandwidth=3)\n",
    "\n",
    "# drop bad channels\n",
    "raw.drop_channels(raw.info['bads'])\n",
    "\n",
    "# the coordinate frame of the montage\n",
    "print(raw.get_montage().get_positions()['coord_frame'])\n",
    "\n",
    "# Find the annotated events\n",
    "events, event_id = mne.events_from_annotations(raw)\n",
    "\n",
    "# Make a 25 second epoch that spans before and after the seizure onset\n",
    "epoch_length = 25  # seconds\n",
    "epochs = mne.Epochs(raw, events, event_id=event_id['onset'],\n",
    "                    tmin=13, tmax=13 + epoch_length, baseline=None)\n",
    "\n",
    "# And then load data and downsample.\n",
    "# .. note: This is just to save execution time in this example, you should\n",
    "#          not need to do this in general!\n",
    "epochs.load_data()\n",
    "epochs.resample(200)  # Hz, will also load the data for us\n",
    "\n",
    "# Finally, make evoked from the one epoch\n",
    "evoked = epochs.average()"
   ]
  },
  {
   "cell_type": "code",
   "execution_count": 5,
   "id": "0df4d684",
   "metadata": {},
   "outputs": [
    {
     "name": "stdout",
     "output_type": "stream",
     "text": [
      "Extracting parameters from /Users/adam2392/mne_data/MNE-epilepsy-ecog-data/sub-pt1/ses-presurgery/ieeg/sub-pt1_ses-presurgery_task-ictal_ieeg.vhdr...\n",
      "Setting channel info structure...\n",
      "Reading events from /Users/adam2392/mne_data/MNE-epilepsy-ecog-data/sub-pt1/ses-presurgery/ieeg/sub-pt1_ses-presurgery_task-ictal_events.tsv.\n",
      "Reading channel info from /Users/adam2392/mne_data/MNE-epilepsy-ecog-data/sub-pt1/ses-presurgery/ieeg/sub-pt1_ses-presurgery_task-ictal_channels.tsv.\n",
      "Reading electrode coords from /Users/adam2392/mne_data/MNE-epilepsy-ecog-data/sub-pt1/ses-presurgery/ieeg/sub-pt1_ses-presurgery_space-fsaverage_electrodes.tsv.\n",
      "{'ch_pos': OrderedDict([('G1', array([ 0.02861, -0.08865,  0.03632])), ('G2', array([ 0.03704, -0.08314,  0.03634])), ('G3', array([ 0.04519, -0.07754,  0.03519])), ('G4', array([ 0.0527 , -0.0715 ,  0.03453])), ('G7', array([ 0.06615, -0.04899,  0.02304])), ('G8', array([ 0.06774, -0.04037,  0.01797])), ('G9', array([ 0.02563, -0.08366,  0.04468])), ('G10', array([ 0.03411, -0.07804,  0.0441 ])), ('G13', array([ 0.05613, -0.05888,  0.03954])), ('G14', array([ 0.06102, -0.05129,  0.03555])), ('G15', array([ 0.06433, -0.04331,  0.03077])), ('G16', array([ 0.06749, -0.0354 ,  0.02601])), ('G17', array([ 0.02272, -0.0776 ,  0.05219])), ('G18', array([ 0.0311 , -0.07283,  0.05155])), ('G19', array([ 0.03911, -0.06706,  0.0508 ])), ('G20', array([ 0.04621, -0.06037,  0.04961])), ('G21', array([ 0.0525 , -0.05307,  0.04649])), ('G22', array([ 0.05808, -0.04536,  0.04247])), ('G23', array([ 0.06187, -0.03758,  0.03838])), ('G11', array([ 0.04208, -0.07202,  0.04345])), ('G12', array([ 0.04957, -0.06604,  0.04207])), ('G24', array([ 0.0653 , -0.02988,  0.03303])), ('G25', array([ 0.02045, -0.07091,  0.05811])), ('G26', array([ 0.02818, -0.06749,  0.05882])), ('G27', array([ 0.0361 , -0.06161,  0.05785])), ('G28', array([ 0.04286, -0.05464,  0.05621])), ('G29', array([ 0.04798, -0.0468 ,  0.05275])), ('G30', array([ 0.05413, -0.03981,  0.04909])), ('G31', array([ 0.05892, -0.03186,  0.04544])), ('G32', array([ 0.06165, -0.02365,  0.04055])), ('ATT1', array([ 0.01863, -0.0105 , -0.02938])), ('ATT2', array([ 0.01972, -0.00169, -0.03457])), ('ATT3', array([ 0.02188,  0.00839, -0.03551])), ('ATT4', array([ 0.02701,  0.01711, -0.03344])), ('ATT5', array([ 0.03546,  0.01975, -0.03415])), ('ATT6', array([ 0.04585,  0.01856, -0.03375])), ('ATT7', array([ 0.05363,  0.01261, -0.03467])), ('ATT8', array([ 0.05815,  0.00342, -0.03495])), ('PLT1', array([ 0.06476, -0.06066,  0.00494])), ('PLT2', array([ 0.06819, -0.05297, -0.00124])), ('PLT3', array([ 0.07046, -0.04451, -0.00652])), ('PLT4', array([ 0.07157, -0.03654, -0.01191])), ('PLT5', array([ 0.07107, -0.02908, -0.01699])), ('PLT6', array([ 0.06859, -0.02079, -0.02447])), ('AST1', array([ 0.02632,  0.00922, -0.0384 ])), ('AST2', array([ 0.03359,  0.00733, -0.04209])), ('AST3', array([ 0.04374,  0.00637, -0.04361])), ('AST4', array([ 0.05199,  0.00226, -0.04172])), ('PST1', array([ 0.02384, -0.00012, -0.04397])), ('PST2', array([ 0.03194, -0.00534, -0.04486])), ('PST3', array([ 0.04176, -0.00499, -0.04622])), ('PST4', array([ 0.05139, -0.0069 , -0.04143])), ('AD1', array([ 0.01989, -0.00886, -0.02194])), ('AD2', array([ 0.02458, -0.00885, -0.02219])), ('AD3', array([ 0.02849, -0.00883, -0.02257])), ('AD4', array([ 0.03369, -0.00917, -0.02275])), ('PD1', array([ 0.02416, -0.02445, -0.01884])), ('PD2', array([ 0.02827, -0.02255, -0.02033])), ('PD3', array([ 0.03232, -0.01997, -0.02149])), ('PD4', array([ 0.03593, -0.01764, -0.02255])), ('SF1', array([0.05023, 0.03698, 0.02703])), ('SF2', array([0.05424, 0.0282 , 0.02968])), ('SF3', array([0.05763, 0.01859, 0.03242])), ('SF4', array([0.05907, 0.00977, 0.03466])), ('SF5', array([ 0.06034, -0.00048,  0.03708])), ('SF6', array([ 0.06096, -0.01014,  0.03873])), ('IF1', array([0.05922, 0.03456, 0.01021])), ('IF2', array([0.06188, 0.02528, 0.01457])), ('IF3', array([0.06328, 0.01672, 0.01813])), ('IF4', array([0.06463, 0.0066 , 0.02028])), ('IF5', array([ 0.06529, -0.00274,  0.02393])), ('IF6', array([ 0.06542, -0.01178,  0.02757])), ('ILT1', array([ 0.04862, -0.0859 , -0.01125])), ('ILT2', array([ 0.05135, -0.08419, -0.00206])), ('ILT3', array([ 0.05369, -0.08144,  0.00676])), ('ILT4', array([ 0.05375, -0.07965,  0.01633])), ('MLT1', array([ 0.06929, -0.04693,  0.00145])), ('MLT2', array([ 0.06628, -0.05412,  0.00867])), ('MLT3', array([ 0.06375, -0.06137,  0.01513])), ('MLT4', array([ 0.0598 , -0.06842,  0.02101])), ('SLT1', array([ 0.07138, -0.02335, -0.01187])), ('SLT2', array([ 0.07241, -0.03115, -0.0058 ])), ('SLT3', array([ 0.07187, -0.03828,  0.00118])), ('SLT4', array([ 0.07209, -0.04645,  0.00745]))]), 'coord_frame': 'mni_tal', 'nasion': None, 'lpa': None, 'rpa': None, 'hsp': None, 'hpi': None}\n"
     ]
    },
    {
     "name": "stderr",
     "output_type": "stream",
     "text": [
      "<ipython-input-5-c647b986fe53>:1: RuntimeWarning: Fiducial point nasion not found, assuming identity unknown to head transformation\n",
      "  raw = read_raw_bids(bids_path, verbose=False)\n",
      "<ipython-input-5-c647b986fe53>:1: RuntimeWarning: DigMontage is only a subset of info. There are 3 channel positions not present in the DigMontage. The required channels are:\n",
      "\n",
      "['RQ1', 'RQ2', 'N/A'].\n",
      "\n",
      "Consider using inst.set_channel_types if these are not EEG channels, or use the on_missing parameter if the channel positions are allowed to be unknown in your analyses.\n",
      "  raw = read_raw_bids(bids_path, verbose=False)\n"
     ]
    }
   ],
   "source": [
    "raw = read_raw_bids(bids_path, verbose=False)\n",
    "print(raw.get_montage().get_positions())"
   ]
  },
  {
   "cell_type": "code",
   "execution_count": 4,
   "id": "5dc67558",
   "metadata": {},
   "outputs": [
    {
     "name": "stdout",
     "output_type": "stream",
     "text": [
      "Plotting 84 ECoG locations\n",
      "Using pyvista 3d backend.\n",
      "\n"
     ]
    }
   ],
   "source": [
    "%matplotlib widget\n",
    "fig = plot_alignment(raw.info, subject='fsaverage', subjects_dir=subjects_dir,\n",
    "                     surfaces=['pial'], coord_frame='mri')\n",
    "az, el, focalpoint = 160, -70, [0.067, -0.040, 0.018]\n",
    "mne.viz.set_3d_view(fig, \n",
    "#                     azimuth=az, elevation=el, focalpoint=focalpoint\n",
    "                   )\n",
    "\n",
    "xy, im = snapshot_brain_montage(fig, raw.info)"
   ]
  },
  {
   "cell_type": "code",
   "execution_count": null,
   "id": "79641b98",
   "metadata": {},
   "outputs": [],
   "source": []
  },
  {
   "cell_type": "code",
   "execution_count": null,
   "id": "53ca82e2",
   "metadata": {},
   "outputs": [],
   "source": []
  },
  {
   "cell_type": "code",
   "execution_count": null,
   "id": "e3ef80b3",
   "metadata": {},
   "outputs": [],
   "source": []
  },
  {
   "cell_type": "code",
   "execution_count": null,
   "id": "3b9674d7",
   "metadata": {},
   "outputs": [],
   "source": []
  }
 ],
 "metadata": {
  "kernelspec": {
   "display_name": "sickkids",
   "language": "python",
   "name": "sickkids"
  },
  "language_info": {
   "codemirror_mode": {
    "name": "ipython",
    "version": 3
   },
   "file_extension": ".py",
   "mimetype": "text/x-python",
   "name": "python",
   "nbconvert_exporter": "python",
   "pygments_lexer": "ipython3",
   "version": "3.8.6"
  }
 },
 "nbformat": 4,
 "nbformat_minor": 5
}
