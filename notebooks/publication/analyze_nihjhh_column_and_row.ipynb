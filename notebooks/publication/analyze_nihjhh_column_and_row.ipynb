{
 "cells": [
  {
   "cell_type": "markdown",
   "id": "a9b7de28",
   "metadata": {},
   "source": [
    "# Analyzing Observational iEEG Data With Row and Column Perturbations"
   ]
  },
  {
   "cell_type": "code",
   "execution_count": null,
   "id": "d62fe61a",
   "metadata": {},
   "outputs": [],
   "source": []
  }
 ],
 "metadata": {
  "kernelspec": {
   "display_name": "sickkids",
   "language": "python",
   "name": "sickkids"
  },
  "language_info": {
   "codemirror_mode": {
    "name": "ipython",
    "version": 3
   },
   "file_extension": ".py",
   "mimetype": "text/x-python",
   "name": "python",
   "nbconvert_exporter": "python",
   "pygments_lexer": "ipython3",
   "version": "3.8.6"
  }
 },
 "nbformat": 4,
 "nbformat_minor": 5
}
