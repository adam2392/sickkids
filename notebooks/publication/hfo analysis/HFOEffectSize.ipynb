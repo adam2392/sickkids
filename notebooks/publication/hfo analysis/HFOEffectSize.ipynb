{
 "cells": [
  {
   "cell_type": "markdown",
   "metadata": {},
   "source": [
    "# Calculate Effect Size for HFO Analysis\n",
    "\n",
    "Using pre-calculated HFOs, determine the effect size of the difference of hfo rates pre and post resection"
   ]
  },
  {
   "cell_type": "code",
   "execution_count": 17,
   "metadata": {},
   "outputs": [],
   "source": [
    "# auto-format every cell to black\n",
    "%load_ext lab_black"
   ]
  },
  {
   "cell_type": "code",
   "execution_count": 40,
   "metadata": {},
   "outputs": [],
   "source": [
    "from pathlib import Path\n",
    "from mne_bids import (\n",
    "    read_raw_bids,\n",
    "    BIDSPath,\n",
    "    get_entity_vals,\n",
    "    get_datatypes,\n",
    "    make_report,\n",
    ")\n",
    "from mne_hfo import LineLengthDetector, RMSDetector\n",
    "from mne_hfo.io import read_annotations\n",
    "from mne_hfo.posthoc import compute_chs_hfo_rates\n",
    "from natsort import natsorted\n",
    "\n",
    "import matplotlib\n",
    "import matplotlib.pyplot as plt\n",
    "import seaborn as sns\n",
    "\n",
    "import pandas as pd\n",
    "import numpy as np\n",
    "import pingouin as pg\n",
    "\n",
    "from sklearn.utils import resample\n",
    "\n",
    "import ptitprince as pt\n",
    "\n",
    "from scipy.stats import ranksums\n",
    "from hyppo.ksample import KSample"
   ]
  },
  {
   "cell_type": "code",
   "execution_count": 2,
   "metadata": {},
   "outputs": [],
   "source": [
    "np.random.seed(12345)"
   ]
  },
  {
   "cell_type": "markdown",
   "metadata": {},
   "source": [
    "# Load the data"
   ]
  },
  {
   "cell_type": "markdown",
   "metadata": {},
   "source": [
    "Find all the paths to the result files for HFO detections. Put them into a dictionary with subjectID keys"
   ]
  },
  {
   "cell_type": "code",
   "execution_count": 3,
   "metadata": {},
   "outputs": [],
   "source": [
    "bids_root = Path(\"C:/Users/patri/Johns Hopkins/Adam Li - sickkids\")\n",
    "bids_root = Path('/Users/adam2392/OneDrive - Johns Hopkins/sickkids')\n",
    "\n",
    "output_path = bids_root / 'derivatives' / 'publication'\n",
    "\n",
    "output_path.mkdir(exist_ok=True, parents=True)"
   ]
  },
  {
   "cell_type": "code",
   "execution_count": 4,
   "metadata": {},
   "outputs": [],
   "source": [
    "reference = \"average\"\n",
    "detector=\"linelength\"\n",
    "\n",
    "fpaths = {\n",
    "    \"E1\": [],\n",
    "    \"E3\": [],\n",
    "    \"E4\": [],\n",
    "    \"E5\": [],\n",
    "    \"E6\": [],\n",
    "    \"E7\": [],\n",
    "    \"E8\": []\n",
    "}\n",
    "sessions = {\n",
    "    \"postresection\": \"post\",\n",
    "    \"preresection\": \"pre\"\n",
    "}\n",
    "\n",
    "subjects = get_entity_vals(bids_root, 'subject')\n",
    "derivative_path = bids_root / \"derivatives\"\n",
    "derivative_chain = \"hfo/average\"\n",
    "derivative_dir = derivative_path / derivative_chain\n",
    "for subjectID in subjects:\n",
    "    for sessionID, taskID in sessions.items():\n",
    "        bids_paths = BIDSPath(subject=subjectID, session=sessionID,\n",
    "                          datatype=\"ieeg\",\n",
    "                          suffix=\"ieeg\", task=taskID,\n",
    "                          acquisition='ecog',\n",
    "                          processing=detector,\n",
    "                          run='01',\n",
    "                          extension=\".vhdr\", root=derivative_dir)\n",
    "        hfo_fpath = str(bids_paths).replace(\"_ieeg.vhdr\", \"_desc-hfo_ieeg.tsv\")\n",
    "        if Path(hfo_fpath).exists():\n",
    "            fpaths[subjectID].append(hfo_fpath)\n"
   ]
  },
  {
   "cell_type": "markdown",
   "metadata": {},
   "source": [
    "Load the results into annotation dataframes. Calculate the rate of HFOs per channel and put these lists into a dictionary that separates pre and post resection detections"
   ]
  },
  {
   "cell_type": "code",
   "execution_count": 5,
   "metadata": {},
   "outputs": [],
   "source": [
    "%%capture\n",
    "hfos =  {\n",
    "    \"E1\": {\n",
    "        \"preresection\": None,\n",
    "        \"postresection\": None,\n",
    "    },\n",
    "    \"E3\": {\n",
    "        \"preresection\": None,\n",
    "        \"postresection\": None,\n",
    "    },\n",
    "    \"E4\": {\n",
    "        \"preresection\": None,\n",
    "        \"postresection\": None,\n",
    "    },\n",
    "    \"E5\": {\n",
    "        \"preresection\": None,\n",
    "        \"postresection\": None,\n",
    "    },\n",
    "    \"E6\": {\n",
    "        \"preresection\": None,\n",
    "        \"postresection\": None,\n",
    "    },\n",
    "    \"E7\": {\n",
    "        \"preresection\": None,\n",
    "        \"postresection\": None,\n",
    "    },\n",
    "}\n",
    "for subject, recordings in fpaths.items():\n",
    "    if recordings:\n",
    "        post_tsv = recordings[0]\n",
    "        pre_tsv = recordings[1]\n",
    "        # Read tsv files into annotation dataframes\n",
    "        post_annotations = read_annotations(post_tsv)\n",
    "        pre_annotations = read_annotations(pre_tsv)\n",
    "        # Calculate hfos/min for each channel\n",
    "        hfos[subject][\"postresection\"] = compute_chs_hfo_rates(post_annotations, 'm')\n",
    "        hfos[subject][\"preresection\"] = compute_chs_hfo_rates(pre_annotations, 'm')"
   ]
  },
  {
   "cell_type": "code",
   "execution_count": 8,
   "metadata": {
    "scrolled": true
   },
   "outputs": [],
   "source": [
    "%%capture\n",
    "post_fpath = fpaths[\"E5\"][1]\n",
    "annotations = read_annotations(post_fpath)"
   ]
  },
  {
   "cell_type": "code",
   "execution_count": 9,
   "metadata": {},
   "outputs": [
    {
     "name": "stdout",
     "output_type": "stream",
     "text": [
      "(0, onset       2.8304\n",
      "duration    0.0976\n",
      "label          hfo\n",
      "channels        C2\n",
      "sample      5800.0\n",
      "Name: 0, dtype: object)\n",
      "(1, onset       3.7942\n",
      "duration    0.0732\n",
      "label          hfo\n",
      "channels        C2\n",
      "sample      7775.0\n",
      "Name: 1, dtype: object)\n",
      "(2, onset       3.8918\n",
      "duration    0.1098\n",
      "label          hfo\n",
      "channels        C2\n",
      "sample      7975.0\n",
      "Name: 2, dtype: object)\n",
      "(3, onset       4.2944\n",
      "duration    0.0854\n",
      "label          hfo\n",
      "channels        C2\n",
      "sample      8800.0\n",
      "Name: 3, dtype: object)\n"
     ]
    }
   ],
   "source": [
    "# print the first three HFO annotations in the dataframe\n",
    "for idx, ann in enumerate(annotations.iterrows()):\n",
    "    if idx > 3:\n",
    "        break\n",
    "    print(ann) "
   ]
  },
  {
   "cell_type": "markdown",
   "metadata": {},
   "source": [
    "# Compute statistical effect size differences"
   ]
  },
  {
   "cell_type": "markdown",
   "metadata": {},
   "source": [
    "Calculate the effect size between the pre and post resection hfo detection rates. Bootstrap resample (with replacement) 50 times"
   ]
  },
  {
   "cell_type": "code",
   "execution_count": 41,
   "metadata": {},
   "outputs": [],
   "source": [
    "n_resamples = 50\n",
    "# Create a dictionary of subjects and effect sizes\n",
    "data_dict = {\"subject\": [], \"es\": [], \"p-value\": []}\n",
    "\n",
    "for ind, (subject, sessions) in enumerate(hfos.items()):\n",
    "    # Bootstrap resample\n",
    "    effects = np.zeros((n_resamples,))\n",
    "    pvalues = []\n",
    "    pre_rates = list(sessions[\"preresection\"].values())\n",
    "    post_rates = list(sessions[\"postresection\"].values())\n",
    "    if subject == \"E5\":\n",
    "        # subject E5 postresection has no variance in detections. P-value cannot be calculated\n",
    "        pvalue = np.nan\n",
    "    else:\n",
    "        _, pvalue = KSample(\"Dcorr\").test(\n",
    "            np.array(pre_rates).flatten(), np.array(post_rates).flatten()\n",
    "        )\n",
    "    for i in range(n_resamples):\n",
    "        pre = resample(pre_rates, replace=True, n_samples=len(pre_rates))\n",
    "        post = resample(post_rates, replace=True, n_samples=len(post_rates))\n",
    "        effects[i] = pg.compute_effsize(pre, post, eftype=\"cohen\")\n",
    "        _, pvalue = ranksums(pre, post)\n",
    "        pvalues.append(pvalue)\n",
    "    # Add to the dictionary with subject repeated\n",
    "    data_dict[\"es\"].extend(effects)\n",
    "    data_dict[\"subject\"].extend([subject] * n_resamples)\n",
    "    data_dict[\"p-value\"].extend(pvalues)\n",
    "# Convert dictionary to DataFrame\n",
    "cohens_int = pd.DataFrame(data_dict)"
   ]
  },
  {
   "cell_type": "code",
   "execution_count": 42,
   "metadata": {},
   "outputs": [
    {
     "data": {
      "text/html": [
       "<div>\n",
       "<style scoped>\n",
       "    .dataframe tbody tr th:only-of-type {\n",
       "        vertical-align: middle;\n",
       "    }\n",
       "\n",
       "    .dataframe tbody tr th {\n",
       "        vertical-align: top;\n",
       "    }\n",
       "\n",
       "    .dataframe thead th {\n",
       "        text-align: right;\n",
       "    }\n",
       "</style>\n",
       "<table border=\"1\" class=\"dataframe\">\n",
       "  <thead>\n",
       "    <tr style=\"text-align: right;\">\n",
       "      <th></th>\n",
       "      <th>subject</th>\n",
       "      <th>es</th>\n",
       "      <th>p-value</th>\n",
       "    </tr>\n",
       "  </thead>\n",
       "  <tbody>\n",
       "    <tr>\n",
       "      <th>0</th>\n",
       "      <td>E1</td>\n",
       "      <td>1.272298</td>\n",
       "      <td>1.623658e-10</td>\n",
       "    </tr>\n",
       "    <tr>\n",
       "      <th>1</th>\n",
       "      <td>E1</td>\n",
       "      <td>1.319663</td>\n",
       "      <td>1.350993e-09</td>\n",
       "    </tr>\n",
       "    <tr>\n",
       "      <th>2</th>\n",
       "      <td>E1</td>\n",
       "      <td>1.672505</td>\n",
       "      <td>2.607568e-12</td>\n",
       "    </tr>\n",
       "    <tr>\n",
       "      <th>3</th>\n",
       "      <td>E1</td>\n",
       "      <td>1.304919</td>\n",
       "      <td>6.360150e-10</td>\n",
       "    </tr>\n",
       "    <tr>\n",
       "      <th>4</th>\n",
       "      <td>E1</td>\n",
       "      <td>1.149795</td>\n",
       "      <td>3.196313e-09</td>\n",
       "    </tr>\n",
       "  </tbody>\n",
       "</table>\n",
       "</div>"
      ],
      "text/plain": [
       "  subject        es       p-value\n",
       "0      E1  1.272298  1.623658e-10\n",
       "1      E1  1.319663  1.350993e-09\n",
       "2      E1  1.672505  2.607568e-12\n",
       "3      E1  1.304919  6.360150e-10\n",
       "4      E1  1.149795  3.196313e-09"
      ]
     },
     "metadata": {},
     "output_type": "display_data"
    }
   ],
   "source": [
    "display(cohens_int.head())"
   ]
  },
  {
   "cell_type": "code",
   "execution_count": 23,
   "metadata": {},
   "outputs": [
    {
     "data": {
      "text/html": [
       "<div>\n",
       "<style scoped>\n",
       "    .dataframe tbody tr th:only-of-type {\n",
       "        vertical-align: middle;\n",
       "    }\n",
       "\n",
       "    .dataframe tbody tr th {\n",
       "        vertical-align: top;\n",
       "    }\n",
       "\n",
       "    .dataframe thead tr th {\n",
       "        text-align: left;\n",
       "    }\n",
       "\n",
       "    .dataframe thead tr:last-of-type th {\n",
       "        text-align: right;\n",
       "    }\n",
       "</style>\n",
       "<table border=\"1\" class=\"dataframe\">\n",
       "  <thead>\n",
       "    <tr>\n",
       "      <th></th>\n",
       "      <th colspan=\"5\" halign=\"left\">es</th>\n",
       "    </tr>\n",
       "    <tr>\n",
       "      <th></th>\n",
       "      <th>amin</th>\n",
       "      <th>amax</th>\n",
       "      <th>median</th>\n",
       "      <th>first_quartile</th>\n",
       "      <th>third_quartile</th>\n",
       "    </tr>\n",
       "    <tr>\n",
       "      <th>subject</th>\n",
       "      <th></th>\n",
       "      <th></th>\n",
       "      <th></th>\n",
       "      <th></th>\n",
       "      <th></th>\n",
       "    </tr>\n",
       "  </thead>\n",
       "  <tbody>\n",
       "    <tr>\n",
       "      <th>E1</th>\n",
       "      <td>0.858169</td>\n",
       "      <td>1.857346</td>\n",
       "      <td>1.384032</td>\n",
       "      <td>1.168559</td>\n",
       "      <td>1.553104</td>\n",
       "    </tr>\n",
       "    <tr>\n",
       "      <th>E3</th>\n",
       "      <td>-0.052395</td>\n",
       "      <td>0.944244</td>\n",
       "      <td>0.400536</td>\n",
       "      <td>0.245618</td>\n",
       "      <td>0.477469</td>\n",
       "    </tr>\n",
       "    <tr>\n",
       "      <th>E4</th>\n",
       "      <td>-0.099173</td>\n",
       "      <td>1.085562</td>\n",
       "      <td>0.441813</td>\n",
       "      <td>0.275658</td>\n",
       "      <td>0.634552</td>\n",
       "    </tr>\n",
       "    <tr>\n",
       "      <th>E5</th>\n",
       "      <td>1.694089</td>\n",
       "      <td>2.487243</td>\n",
       "      <td>1.991414</td>\n",
       "      <td>1.876940</td>\n",
       "      <td>2.129617</td>\n",
       "    </tr>\n",
       "    <tr>\n",
       "      <th>E6</th>\n",
       "      <td>-0.627474</td>\n",
       "      <td>0.036978</td>\n",
       "      <td>-0.352127</td>\n",
       "      <td>-0.445234</td>\n",
       "      <td>-0.258978</td>\n",
       "    </tr>\n",
       "    <tr>\n",
       "      <th>E7</th>\n",
       "      <td>-1.245801</td>\n",
       "      <td>-0.648652</td>\n",
       "      <td>-0.949410</td>\n",
       "      <td>-1.000543</td>\n",
       "      <td>-0.840210</td>\n",
       "    </tr>\n",
       "  </tbody>\n",
       "</table>\n",
       "</div>"
      ],
      "text/plain": [
       "               es                                                  \n",
       "             amin      amax    median first_quartile third_quartile\n",
       "subject                                                            \n",
       "E1       0.858169  1.857346  1.384032       1.168559       1.553104\n",
       "E3      -0.052395  0.944244  0.400536       0.245618       0.477469\n",
       "E4      -0.099173  1.085562  0.441813       0.275658       0.634552\n",
       "E5       1.694089  2.487243  1.991414       1.876940       2.129617\n",
       "E6      -0.627474  0.036978 -0.352127      -0.445234      -0.258978\n",
       "E7      -1.245801 -0.648652 -0.949410      -1.000543      -0.840210"
      ]
     },
     "metadata": {},
     "output_type": "display_data"
    }
   ],
   "source": [
    "def first_quartile(x):\n",
    "    return np.percentile(x, 25)\n",
    "def third_quartile(x):\n",
    "    return np.percentile(x, 75)\n",
    "\n",
    "# print summary of box plot\n",
    "boxplot_es_summary = cohens_int[['subject', 'es']].groupby('subject').agg({'es': [np.min,np.max, np.median, first_quartile, third_quartile]})\n",
    "boxplot_es_summary.to_csv(output_path / 'supplemental data tables'/ 'supplemental_boxplot_summary_hfosubjs.csv')\n",
    "\n",
    "display(boxplot_es_summary)"
   ]
  },
  {
   "cell_type": "markdown",
   "metadata": {},
   "source": [
    "## Plot the results"
   ]
  },
  {
   "cell_type": "code",
   "execution_count": 37,
   "metadata": {},
   "outputs": [],
   "source": [
    "palette = [\"gray\"] * len(subjects)\n",
    "palette[0] = \"red\""
   ]
  },
  {
   "cell_type": "code",
   "execution_count": 53,
   "metadata": {},
   "outputs": [
    {
     "name": "stdout",
     "output_type": "stream",
     "text": [
      "done\n"
     ]
    },
    {
     "data": {
      "image/png": "[encoded data removed]",
      "text/plain": [
       "<Figure size 504x432 with 1 Axes>"
      ]
     },
     "metadata": {
      "needs_background": "light"
     },
     "output_type": "display_data"
    }
   ],
   "source": [
    "ort = \"v\"\n",
    "pal = \"Set2\"\n",
    "sigma = 0.2\n",
    "pal = sns.color_palette(n_colors=1)\n",
    "sns.set_context(\"paper\", font_scale=1.75)\n",
    "fig, ax = plt.subplots(figsize=(7, 6))\n",
    "\n",
    "pt.RainCloud(\n",
    "    x=\"subject\",\n",
    "    y=\"es\",\n",
    "    data=cohens_int,\n",
    "    palette=palette,\n",
    "    bw=sigma,\n",
    "    width_viol=0.6,\n",
    "    ax=ax,\n",
    "    orient=ort,\n",
    "    #     pointplot=True,\n",
    ")\n",
    "\n",
    "# ax.axhline(fail_mean, ls=\"--\", lw=2, color=\"black\", label=\"Failed Avg\")\n",
    "\n",
    "# plot horizontal line\n",
    "ax.axhline(\n",
    "    [0],\n",
    "    ls=\"--\",\n",
    "    lw=2,\n",
    "    #            color='black',\n",
    "    label=\"No change\",\n",
    ")\n",
    "\n",
    "ax.legend()\n",
    "ax.set(\n",
    "    #     ylim=[-1.5, 1.5],\n",
    "    xlabel=\"Subject\",\n",
    "    ylabel=f\"Cohens D\",  # \\n(threshold={threshold})\",\n",
    "    title=f\"Effect Size Difference Between \\n Pre/Post Resection Neural Fragility\",\n",
    ")\n",
    "\n",
    "fig.tight_layout()\n",
    "fig.savefig(\n",
    "    output_path / f\"hfo_es-rainplot-prevspost-{reference}.pdf\",\n",
    "    bbox_inches=\"tight\",\n",
    ")\n",
    "print(\"done\")"
   ]
  },
  {
   "cell_type": "code",
   "execution_count": 54,
   "metadata": {},
   "outputs": [
    {
     "name": "stderr",
     "output_type": "stream",
     "text": [
      "/Users/adam2392/Documents/sickkids/.venv/lib/python3.8/site-packages/seaborn/categorical.py:1296: UserWarning: 82.0% of the points cannot be placed; you may want to decrease the size of the markers or use stripplot.\n",
      "  warnings.warn(msg, UserWarning)\n",
      "/Users/adam2392/Documents/sickkids/.venv/lib/python3.8/site-packages/seaborn/categorical.py:1296: UserWarning: 26.0% of the points cannot be placed; you may want to decrease the size of the markers or use stripplot.\n",
      "  warnings.warn(msg, UserWarning)\n"
     ]
    },
    {
     "name": "stdout",
     "output_type": "stream",
     "text": [
      "done\n"
     ]
    },
    {
     "data": {
      "image/png": "[encoded data removed]",
      "text/plain": [
       "<Figure size 504x432 with 1 Axes>"
      ]
     },
     "metadata": {
      "needs_background": "light"
     },
     "output_type": "display_data"
    }
   ],
   "source": [
    "ort = \"v\"\n",
    "pal = \"Set2\"\n",
    "sigma = 0.2\n",
    "pal = sns.color_palette(n_colors=1)\n",
    "sns.set_context(\"paper\", font_scale=1.75)\n",
    "fig, ax = plt.subplots(figsize=(7, 6))\n",
    "sns.swarmplot(\n",
    "    x=\"subject\",\n",
    "    y=\"p-value\",\n",
    "    order=natsorted(cohens_int[\"subject\"].unique()),\n",
    "    #     alpha=0.9,\n",
    "    palette=palette,\n",
    "    data=cohens_int,\n",
    "    ax=ax,\n",
    ")\n",
    "sns.boxplot(\n",
    "    x=\"subject\",\n",
    "    y=\"p-value\",\n",
    "    palette=palette,\n",
    "    order=natsorted(cohens_int[\"subject\"].unique()),\n",
    "    data=cohens_int,\n",
    "    ax=ax,\n",
    "    boxprops=dict(alpha=0.4),\n",
    ")\n",
    "\n",
    "ax.set(\n",
    "    yscale=\"log\",\n",
    "    xlabel=\"Subject\",\n",
    "    ylabel=\"Pvalue\",\n",
    "    title=\"Wilcoxon Rank Sum pvalue between \\n pre/post resection HFO Rates\",\n",
    ")\n",
    "\n",
    "fig.tight_layout()\n",
    "fig.savefig(\n",
    "    output_path / f\"hfo_pvalue-rainplot-prevspost-{reference}.pdf\",\n",
    "    bbox_inches=\"tight\",\n",
    ")\n",
    "print(\"done\")"
   ]
  },
  {
   "cell_type": "markdown",
   "metadata": {},
   "source": [
    "Display these results in a figure"
   ]
  },
  {
   "cell_type": "code",
   "execution_count": 16,
   "metadata": {
    "collapsed": true,
    "jupyter": {
     "outputs_hidden": true
    }
   },
   "outputs": [
    {
     "ename": "KeyError",
     "evalue": "'[4] not found in axis'",
     "output_type": "error",
     "traceback": [
      "\u001b[1;31m---------------------------------------------------------------------------\u001b[0m",
      "\u001b[1;31mKeyError\u001b[0m                                  Traceback (most recent call last)",
      "\u001b[1;32m<ipython-input-16-f8b564f43953>\u001b[0m in \u001b[0;36m<module>\u001b[1;34m\u001b[0m\n\u001b[0;32m      2\u001b[0m \u001b[0mmean\u001b[0m \u001b[1;33m=\u001b[0m \u001b[0mgrouped_df\u001b[0m\u001b[1;33m.\u001b[0m\u001b[0magg\u001b[0m\u001b[1;33m(\u001b[0m\u001b[1;33m[\u001b[0m\u001b[1;34m'mean'\u001b[0m\u001b[1;33m,\u001b[0m \u001b[0mnp\u001b[0m\u001b[1;33m.\u001b[0m\u001b[0mstd\u001b[0m\u001b[1;33m]\u001b[0m\u001b[1;33m)\u001b[0m\u001b[1;33m\u001b[0m\u001b[1;33m\u001b[0m\u001b[0m\n\u001b[0;32m      3\u001b[0m \u001b[1;31m#stdev = grouped_df.stdev('es')\u001b[0m\u001b[1;33m\u001b[0m\u001b[1;33m\u001b[0m\u001b[1;33m\u001b[0m\u001b[0m\n\u001b[1;32m----> 4\u001b[1;33m \u001b[0mmean\u001b[0m\u001b[1;33m.\u001b[0m\u001b[0mdrop\u001b[0m\u001b[1;33m(\u001b[0m\u001b[1;36m4\u001b[0m\u001b[1;33m)\u001b[0m\u001b[1;33m\u001b[0m\u001b[1;33m\u001b[0m\u001b[0m\n\u001b[0m",
      "\u001b[1;32m~\\.virtualenvs\\sickkids--kKd4nio\\lib\\site-packages\\pandas\\core\\frame.py\u001b[0m in \u001b[0;36mdrop\u001b[1;34m(self, labels, axis, index, columns, level, inplace, errors)\u001b[0m\n\u001b[0;32m   4306\u001b[0m                 \u001b[0mweight\u001b[0m  \u001b[1;36m1.0\u001b[0m     \u001b[1;36m0.8\u001b[0m\u001b[1;33m\u001b[0m\u001b[1;33m\u001b[0m\u001b[0m\n\u001b[0;32m   4307\u001b[0m         \"\"\"\n\u001b[1;32m-> 4308\u001b[1;33m         return super().drop(\n\u001b[0m\u001b[0;32m   4309\u001b[0m             \u001b[0mlabels\u001b[0m\u001b[1;33m=\u001b[0m\u001b[0mlabels\u001b[0m\u001b[1;33m,\u001b[0m\u001b[1;33m\u001b[0m\u001b[1;33m\u001b[0m\u001b[0m\n\u001b[0;32m   4310\u001b[0m             \u001b[0maxis\u001b[0m\u001b[1;33m=\u001b[0m\u001b[0maxis\u001b[0m\u001b[1;33m,\u001b[0m\u001b[1;33m\u001b[0m\u001b[1;33m\u001b[0m\u001b[0m\n",
      "\u001b[1;32m~\\.virtualenvs\\sickkids--kKd4nio\\lib\\site-packages\\pandas\\core\\generic.py\u001b[0m in \u001b[0;36mdrop\u001b[1;34m(self, labels, axis, index, columns, level, inplace, errors)\u001b[0m\n\u001b[0;32m   4151\u001b[0m         \u001b[1;32mfor\u001b[0m \u001b[0maxis\u001b[0m\u001b[1;33m,\u001b[0m \u001b[0mlabels\u001b[0m \u001b[1;32min\u001b[0m \u001b[0maxes\u001b[0m\u001b[1;33m.\u001b[0m\u001b[0mitems\u001b[0m\u001b[1;33m(\u001b[0m\u001b[1;33m)\u001b[0m\u001b[1;33m:\u001b[0m\u001b[1;33m\u001b[0m\u001b[1;33m\u001b[0m\u001b[0m\n\u001b[0;32m   4152\u001b[0m             \u001b[1;32mif\u001b[0m \u001b[0mlabels\u001b[0m \u001b[1;32mis\u001b[0m \u001b[1;32mnot\u001b[0m \u001b[1;32mNone\u001b[0m\u001b[1;33m:\u001b[0m\u001b[1;33m\u001b[0m\u001b[1;33m\u001b[0m\u001b[0m\n\u001b[1;32m-> 4153\u001b[1;33m                 \u001b[0mobj\u001b[0m \u001b[1;33m=\u001b[0m \u001b[0mobj\u001b[0m\u001b[1;33m.\u001b[0m\u001b[0m_drop_axis\u001b[0m\u001b[1;33m(\u001b[0m\u001b[0mlabels\u001b[0m\u001b[1;33m,\u001b[0m \u001b[0maxis\u001b[0m\u001b[1;33m,\u001b[0m \u001b[0mlevel\u001b[0m\u001b[1;33m=\u001b[0m\u001b[0mlevel\u001b[0m\u001b[1;33m,\u001b[0m \u001b[0merrors\u001b[0m\u001b[1;33m=\u001b[0m\u001b[0merrors\u001b[0m\u001b[1;33m)\u001b[0m\u001b[1;33m\u001b[0m\u001b[1;33m\u001b[0m\u001b[0m\n\u001b[0m\u001b[0;32m   4154\u001b[0m \u001b[1;33m\u001b[0m\u001b[0m\n\u001b[0;32m   4155\u001b[0m         \u001b[1;32mif\u001b[0m \u001b[0minplace\u001b[0m\u001b[1;33m:\u001b[0m\u001b[1;33m\u001b[0m\u001b[1;33m\u001b[0m\u001b[0m\n",
      "\u001b[1;32m~\\.virtualenvs\\sickkids--kKd4nio\\lib\\site-packages\\pandas\\core\\generic.py\u001b[0m in \u001b[0;36m_drop_axis\u001b[1;34m(self, labels, axis, level, errors)\u001b[0m\n\u001b[0;32m   4186\u001b[0m                 \u001b[0mnew_axis\u001b[0m \u001b[1;33m=\u001b[0m \u001b[0maxis\u001b[0m\u001b[1;33m.\u001b[0m\u001b[0mdrop\u001b[0m\u001b[1;33m(\u001b[0m\u001b[0mlabels\u001b[0m\u001b[1;33m,\u001b[0m \u001b[0mlevel\u001b[0m\u001b[1;33m=\u001b[0m\u001b[0mlevel\u001b[0m\u001b[1;33m,\u001b[0m \u001b[0merrors\u001b[0m\u001b[1;33m=\u001b[0m\u001b[0merrors\u001b[0m\u001b[1;33m)\u001b[0m\u001b[1;33m\u001b[0m\u001b[1;33m\u001b[0m\u001b[0m\n\u001b[0;32m   4187\u001b[0m             \u001b[1;32melse\u001b[0m\u001b[1;33m:\u001b[0m\u001b[1;33m\u001b[0m\u001b[1;33m\u001b[0m\u001b[0m\n\u001b[1;32m-> 4188\u001b[1;33m                 \u001b[0mnew_axis\u001b[0m \u001b[1;33m=\u001b[0m \u001b[0maxis\u001b[0m\u001b[1;33m.\u001b[0m\u001b[0mdrop\u001b[0m\u001b[1;33m(\u001b[0m\u001b[0mlabels\u001b[0m\u001b[1;33m,\u001b[0m \u001b[0merrors\u001b[0m\u001b[1;33m=\u001b[0m\u001b[0merrors\u001b[0m\u001b[1;33m)\u001b[0m\u001b[1;33m\u001b[0m\u001b[1;33m\u001b[0m\u001b[0m\n\u001b[0m\u001b[0;32m   4189\u001b[0m             \u001b[0mresult\u001b[0m \u001b[1;33m=\u001b[0m \u001b[0mself\u001b[0m\u001b[1;33m.\u001b[0m\u001b[0mreindex\u001b[0m\u001b[1;33m(\u001b[0m\u001b[1;33m**\u001b[0m\u001b[1;33m{\u001b[0m\u001b[0maxis_name\u001b[0m\u001b[1;33m:\u001b[0m \u001b[0mnew_axis\u001b[0m\u001b[1;33m}\u001b[0m\u001b[1;33m)\u001b[0m\u001b[1;33m\u001b[0m\u001b[1;33m\u001b[0m\u001b[0m\n\u001b[0;32m   4190\u001b[0m \u001b[1;33m\u001b[0m\u001b[0m\n",
      "\u001b[1;32m~\\.virtualenvs\\sickkids--kKd4nio\\lib\\site-packages\\pandas\\core\\indexes\\base.py\u001b[0m in \u001b[0;36mdrop\u001b[1;34m(self, labels, errors)\u001b[0m\n\u001b[0;32m   5589\u001b[0m         \u001b[1;32mif\u001b[0m \u001b[0mmask\u001b[0m\u001b[1;33m.\u001b[0m\u001b[0many\u001b[0m\u001b[1;33m(\u001b[0m\u001b[1;33m)\u001b[0m\u001b[1;33m:\u001b[0m\u001b[1;33m\u001b[0m\u001b[1;33m\u001b[0m\u001b[0m\n\u001b[0;32m   5590\u001b[0m             \u001b[1;32mif\u001b[0m \u001b[0merrors\u001b[0m \u001b[1;33m!=\u001b[0m \u001b[1;34m\"ignore\"\u001b[0m\u001b[1;33m:\u001b[0m\u001b[1;33m\u001b[0m\u001b[1;33m\u001b[0m\u001b[0m\n\u001b[1;32m-> 5591\u001b[1;33m                 \u001b[1;32mraise\u001b[0m \u001b[0mKeyError\u001b[0m\u001b[1;33m(\u001b[0m\u001b[1;34mf\"{labels[mask]} not found in axis\"\u001b[0m\u001b[1;33m)\u001b[0m\u001b[1;33m\u001b[0m\u001b[1;33m\u001b[0m\u001b[0m\n\u001b[0m\u001b[0;32m   5592\u001b[0m             \u001b[0mindexer\u001b[0m \u001b[1;33m=\u001b[0m \u001b[0mindexer\u001b[0m\u001b[1;33m[\u001b[0m\u001b[1;33m~\u001b[0m\u001b[0mmask\u001b[0m\u001b[1;33m]\u001b[0m\u001b[1;33m\u001b[0m\u001b[1;33m\u001b[0m\u001b[0m\n\u001b[0;32m   5593\u001b[0m         \u001b[1;32mreturn\u001b[0m \u001b[0mself\u001b[0m\u001b[1;33m.\u001b[0m\u001b[0mdelete\u001b[0m\u001b[1;33m(\u001b[0m\u001b[0mindexer\u001b[0m\u001b[1;33m)\u001b[0m\u001b[1;33m\u001b[0m\u001b[1;33m\u001b[0m\u001b[0m\n",
      "\u001b[1;31mKeyError\u001b[0m: '[4] not found in axis'"
     ]
    }
   ],
   "source": [
    "grouped_df = cohens_int.groupby('subject')\n",
    "mean = grouped_df.agg(['mean', np.std])\n",
    "#stdev = grouped_df.stdev('es')\n",
    "mean.drop(.columns[i], axis=1)"
   ]
  },
  {
   "cell_type": "code",
   "execution_count": null,
   "metadata": {},
   "outputs": [],
   "source": []
  }
 ],
 "metadata": {
  "kernelspec": {
   "display_name": "sickkids",
   "language": "python",
   "name": "sickkids"
  },
  "language_info": {
   "codemirror_mode": {
    "name": "ipython",
    "version": 3
   },
   "file_extension": ".py",
   "mimetype": "text/x-python",
   "name": "python",
   "nbconvert_exporter": "python",
   "pygments_lexer": "ipython3",
   "version": "3.8.6"
  }
 },
 "nbformat": 4,
 "nbformat_minor": 4
}
