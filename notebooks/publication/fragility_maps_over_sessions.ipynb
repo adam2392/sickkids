{
 "cells": [
  {
   "cell_type": "markdown",
   "metadata": {},
   "source": [
    "# Fragility Analyses With Row/Column Perturbations\n",
    "\n",
    "Since the linear operator estimated from the windowed data matrices are not symmetric, then the corresponding row and column perturbations are different. Although there lacks some theory to describe how different they are depending on matrix properties, we can empirically investigate the differences in the context of EZ localization.\n",
    "\n",
    "Here, we:\n",
    "\n",
    "1. load and visualize the column/row perturbed fragility heaatmaps\n",
    "2. load and visualize their combinations (mean, ratio)"
   ]
  },
  {
   "cell_type": "code",
   "execution_count": 1,
   "metadata": {},
   "outputs": [],
   "source": [
    "import numpy as np\n",
    "import pandas as pd\n",
    "import mne\n",
    "import os\n",
    "import json\n",
    "import os.path as op\n",
    "from pathlib import Path\n",
    "import collections\n",
    "from natsort import natsorted\n",
    "\n",
    "from sklearn.datasets import make_spd_matrix\n",
    "from mne.io import RawArray\n",
    "from mne import create_info\n",
    "from mne_bids import BIDSPath, get_entity_vals, read_raw_bids\n",
    "import mne\n",
    "mne.utils.use_log_level('error')\n",
    "import seaborn as sns\n",
    "import matplotlib.pyplot as plt\n",
    "import matplotlib.cm as cm\n",
    "import matplotlib as mpl\n",
    "\n",
    "import dabest\n",
    "\n",
    "from eztrack.io.base import _add_desc_to_bids_fname, concatenate_derivs\n",
    "from eztrack.io import read_derivative_npy, DerivativeArray, create_deriv_info\n",
    "from eztrack.fragility import (lds_raw_fragility, DiscreteLinearSystem, \n",
    "                               SystemIDModel, StructuredPerturbationModel)\n",
    "from eztrack.viz import _load_turbo, generate_heatmap\n",
    "from eztrack.posthoc.hypo import compute_null\n",
    "\n",
    "_load_turbo()\n",
    "\n",
    "%matplotlib inline\n",
    "%load_ext autoreload\n",
    "%autoreload 2"
   ]
  },
  {
   "cell_type": "code",
   "execution_count": 2,
   "metadata": {},
   "outputs": [],
   "source": [
    "def get_resected_chs(subject, root):\n",
    "    bids_path = BIDSPath(subject=subject, root=root,\n",
    "                         suffix='channels', extension='.tsv')\n",
    "    ch_fpaths = bids_path.match()\n",
    "\n",
    "    # read in sidecar channels.tsv\n",
    "    channels_pd = pd.read_csv(ch_fpaths[0], sep='\\t')\n",
    "    description_chs = pd.Series(channels_pd.description.values, index=channels_pd.name).to_dict()\n",
    "    resected_chs = [ch for ch, description in description_chs.items() if description == 'resected']\n",
    "    return resected_chs"
   ]
  },
  {
   "cell_type": "markdown",
   "metadata": {},
   "source": [
    "# Configure Paths and BIDS related metadata"
   ]
  },
  {
   "cell_type": "code",
   "execution_count": 77,
   "metadata": {},
   "outputs": [],
   "source": [
    "# load in originally ran npy data\n",
    "root = Path('/Users/adam2392/OneDrive - Johns Hopkins/sickkids/')\n",
    "# root = Path('/Users/adam2392/Dropbox/epilepsy_bids/')\n",
    "deriv_root = root / 'derivatives'\n",
    "reference = 'monopolar'\n",
    "sampling_res = '1000Hz'  # 'originalsampling'\n",
    "deriv_chain = Path(sampling_res) / 'radius1.25' / 'fragility' / reference\n",
    "deriv_path = deriv_root / deriv_chain\n",
    "\n",
    "figures_path = deriv_root / 'figures'\n",
    "\n",
    "sessions = ['extraoperative', 'preresection', \n",
    "            'intraresection', 'postresection']\n",
    "desc = 'perturbmatrix'\n",
    "rowdesc = 'rowperturbmatrix'"
   ]
  },
  {
   "cell_type": "code",
   "execution_count": 78,
   "metadata": {},
   "outputs": [],
   "source": [
    "subject = 'E1'\n",
    "session = 'extraoperative'\n",
    "task = 'ictal'\n",
    "acquisition = 'ecog'\n",
    "run = '01'\n",
    "datatype = 'ieeg'\n",
    "extension = '.json'\n",
    "\n",
    "# subject = 'pt1'\n",
    "# session = 'presurgery'\n",
    "# acquisition = 'ecog'\n",
    "# run = '01'"
   ]
  },
  {
   "cell_type": "code",
   "execution_count": 79,
   "metadata": {},
   "outputs": [
    {
     "name": "stdout",
     "output_type": "stream",
     "text": [
      "These are the tasks for E1 extraoperative: ['ictal', 'interictalasleep', 'interictalawake']\n",
      "interictalawake\n"
     ]
    }
   ],
   "source": [
    "subjects = get_entity_vals(deriv_path, 'subject')\n",
    "ignore_subjects = [sub for sub in subjects if sub != subject]\n",
    "\n",
    "sessions = get_entity_vals(deriv_path, 'session', ignore_subjects=ignore_subjects)\n",
    "ignore_sessions = [ses for ses in sessions if ses != session]\n",
    "\n",
    "tasks = get_entity_vals(deriv_path, 'task', \n",
    "                        ignore_subjects=ignore_subjects,\n",
    "                        ignore_sessions=ignore_sessions\n",
    "                       )\n",
    "\n",
    "print(f'These are the tasks for {subject} {session}: {tasks}')\n",
    "task = tasks[-1]\n",
    "\n",
    "print(task)"
   ]
  },
  {
   "cell_type": "code",
   "execution_count": 80,
   "metadata": {},
   "outputs": [
    {
     "name": "stdout",
     "output_type": "stream",
     "text": [
      "/Users/adam2392/OneDrive - Johns Hopkins/sickkids/sub-E1/ses-extraoperative/ieeg/sub-E1_ses-extraoperative_task-interictalawake_acq-ecog_run-01_ieeg.json\n"
     ]
    }
   ],
   "source": [
    "bids_path = BIDSPath(subject=subject, session=session,task=task,\n",
    "                    acquisition=acquisition, run=run, suffix=datatype,\n",
    "                    datatype=datatype, extension=extension,\n",
    "                    root=root)\n",
    "print(bids_path)"
   ]
  },
  {
   "cell_type": "code",
   "execution_count": 81,
   "metadata": {},
   "outputs": [
    {
     "name": "stdout",
     "output_type": "stream",
     "text": [
      "sub-E1_ses-extraoperative_task-interictalawake_acq-ecog_run-01_desc-perturbmatrix_ieeg.json\n"
     ]
    }
   ],
   "source": [
    "deriv_fname = _add_desc_to_bids_fname(bids_path.basename, description=desc)\n",
    "print(deriv_fname)"
   ]
  },
  {
   "cell_type": "code",
   "execution_count": 82,
   "metadata": {},
   "outputs": [
    {
     "name": "stdout",
     "output_type": "stream",
     "text": [
      "/Users/adam2392/OneDrive - Johns Hopkins/sickkids/derivatives/1000Hz/radius1.25/fragility/monopolar/sub-E1/sub-E1_ses-extraoperative_task-interictalawake_acq-ecog_run-01_desc-perturbmatrix_ieeg.json\n",
      "True\n"
     ]
    }
   ],
   "source": [
    "deriv_fpath = deriv_root / deriv_chain / f'sub-{subject}' / deriv_fname\n",
    "print(deriv_fpath)\n",
    "print(deriv_fpath.exists())"
   ]
  }
 ],
 "metadata": {
  "kernelspec": {
   "display_name": "sickkids",
   "language": "python",
   "name": "sickkids"
  },
  "language_info": {
   "codemirror_mode": {
    "name": "ipython",
    "version": 3
   },
   "file_extension": ".py",
   "mimetype": "text/x-python",
   "name": "python",
   "nbconvert_exporter": "python",
   "pygments_lexer": "ipython3",
   "version": "3.8.5"
  }
 },
 "nbformat": 4,
 "nbformat_minor": 4
}
